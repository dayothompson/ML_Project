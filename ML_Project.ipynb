{
  "nbformat": 4,
  "nbformat_minor": 0,
  "metadata": {
    "colab": {
      "name": "ML Project.ipynb",
      "provenance": [],
      "collapsed_sections": [],
      "authorship_tag": "ABX9TyNvFuHeWJr8UgOyDNC7ynd5",
      "include_colab_link": true
    },
    "kernelspec": {
      "name": "python3",
      "display_name": "Python 3"
    }
  },
  "cells": [
    {
      "cell_type": "markdown",
      "metadata": {
        "id": "view-in-github",
        "colab_type": "text"
      },
      "source": [
        "<a href=\"https://colab.research.google.com/github/dayothompson/ML_Project/blob/working_branch/ML_Project.ipynb\" target=\"_parent\"><img src=\"https://colab.research.google.com/assets/colab-badge.svg\" alt=\"Open In Colab\"/></a>"
      ]
    },
    {
      "cell_type": "code",
      "metadata": {
        "id": "DSrM0YAdvppr"
      },
      "source": [
        "import pandas as pd\n",
        "import numpy as np\n",
        "import matplotlib.pyplot as plt\n",
        "import seaborn as sns\n",
        "import math\n",
        "%matplotlib inline\n",
        "import warnings\n",
        "warnings.filterwarnings(\"ignore\")"
      ],
      "execution_count": 1,
      "outputs": []
    },
    {
      "cell_type": "code",
      "metadata": {
        "id": "lqc8RaeUv3G0",
        "outputId": "44c37fe5-818d-4b51-eb3e-e55053a8b60c",
        "colab": {
          "base_uri": "https://localhost:8080/",
          "height": 394
        }
      },
      "source": [
        "house_info = pd.read_csv(\"https://dayotestdb.s3.us-east-2.amazonaws.com/listings_and_scores2.csv\")\n",
        "house_info.head()"
      ],
      "execution_count": 127,
      "outputs": [
        {
          "output_type": "execute_result",
          "data": {
            "text/html": [
              "<div>\n",
              "<style scoped>\n",
              "    .dataframe tbody tr th:only-of-type {\n",
              "        vertical-align: middle;\n",
              "    }\n",
              "\n",
              "    .dataframe tbody tr th {\n",
              "        vertical-align: top;\n",
              "    }\n",
              "\n",
              "    .dataframe thead th {\n",
              "        text-align: right;\n",
              "    }\n",
              "</style>\n",
              "<table border=\"1\" class=\"dataframe\">\n",
              "  <thead>\n",
              "    <tr style=\"text-align: right;\">\n",
              "      <th></th>\n",
              "      <th>price</th>\n",
              "      <th>address</th>\n",
              "      <th>bed</th>\n",
              "      <th>full_bath</th>\n",
              "      <th>half_bath</th>\n",
              "      <th>property_area</th>\n",
              "      <th>property_type</th>\n",
              "      <th>latitude</th>\n",
              "      <th>longitude</th>\n",
              "      <th>year_built</th>\n",
              "      <th>years_old</th>\n",
              "      <th>distance_downtown</th>\n",
              "      <th>monthly_payments</th>\n",
              "      <th>lot_size</th>\n",
              "      <th>basement</th>\n",
              "      <th>garage</th>\n",
              "      <th>postal_code</th>\n",
              "      <th>walk_score</th>\n",
              "      <th>bike_score</th>\n",
              "      <th>transit_score</th>\n",
              "    </tr>\n",
              "  </thead>\n",
              "  <tbody>\n",
              "    <tr>\n",
              "      <th>0</th>\n",
              "      <td>265000</td>\n",
              "      <td>303 - 515 4 AVE NE</td>\n",
              "      <td>2.0</td>\n",
              "      <td>2.0</td>\n",
              "      <td>NaN</td>\n",
              "      <td>601.0</td>\n",
              "      <td>condo</td>\n",
              "      <td>51.055663</td>\n",
              "      <td>-114.051665</td>\n",
              "      <td>2016.0</td>\n",
              "      <td>4.0</td>\n",
              "      <td>1.96207</td>\n",
              "      <td>1145.89</td>\n",
              "      <td>NaN</td>\n",
              "      <td>0.0</td>\n",
              "      <td>0.0</td>\n",
              "      <td>T2E 0J9</td>\n",
              "      <td>69.0</td>\n",
              "      <td>98.0</td>\n",
              "      <td>63.0</td>\n",
              "    </tr>\n",
              "    <tr>\n",
              "      <th>1</th>\n",
              "      <td>265000</td>\n",
              "      <td>303 - 515 4 AVE NE</td>\n",
              "      <td>2.0</td>\n",
              "      <td>2.0</td>\n",
              "      <td>NaN</td>\n",
              "      <td>601.0</td>\n",
              "      <td>condo</td>\n",
              "      <td>51.055663</td>\n",
              "      <td>-114.051665</td>\n",
              "      <td>1995.0</td>\n",
              "      <td>25.0</td>\n",
              "      <td>1.96207</td>\n",
              "      <td>1145.89</td>\n",
              "      <td>NaN</td>\n",
              "      <td>0.0</td>\n",
              "      <td>0.0</td>\n",
              "      <td>T2E 0J9</td>\n",
              "      <td>69.0</td>\n",
              "      <td>98.0</td>\n",
              "      <td>63.0</td>\n",
              "    </tr>\n",
              "    <tr>\n",
              "      <th>2</th>\n",
              "      <td>265000</td>\n",
              "      <td>303 - 515 4 AVE NE</td>\n",
              "      <td>2.0</td>\n",
              "      <td>2.0</td>\n",
              "      <td>NaN</td>\n",
              "      <td>601.0</td>\n",
              "      <td>condo</td>\n",
              "      <td>51.055663</td>\n",
              "      <td>-114.051665</td>\n",
              "      <td>1999.0</td>\n",
              "      <td>21.0</td>\n",
              "      <td>1.96207</td>\n",
              "      <td>1145.89</td>\n",
              "      <td>NaN</td>\n",
              "      <td>0.0</td>\n",
              "      <td>0.0</td>\n",
              "      <td>T2E 0J9</td>\n",
              "      <td>69.0</td>\n",
              "      <td>98.0</td>\n",
              "      <td>63.0</td>\n",
              "    </tr>\n",
              "    <tr>\n",
              "      <th>3</th>\n",
              "      <td>265000</td>\n",
              "      <td>303 - 515 4 AVE NE</td>\n",
              "      <td>2.0</td>\n",
              "      <td>2.0</td>\n",
              "      <td>NaN</td>\n",
              "      <td>601.0</td>\n",
              "      <td>condo</td>\n",
              "      <td>51.055663</td>\n",
              "      <td>-114.051665</td>\n",
              "      <td>2005.0</td>\n",
              "      <td>15.0</td>\n",
              "      <td>1.96207</td>\n",
              "      <td>NaN</td>\n",
              "      <td>NaN</td>\n",
              "      <td>0.0</td>\n",
              "      <td>0.0</td>\n",
              "      <td>T2E 0J9</td>\n",
              "      <td>69.0</td>\n",
              "      <td>98.0</td>\n",
              "      <td>63.0</td>\n",
              "    </tr>\n",
              "    <tr>\n",
              "      <th>4</th>\n",
              "      <td>265000</td>\n",
              "      <td>303 - 515 4 AVE NE</td>\n",
              "      <td>2.0</td>\n",
              "      <td>2.0</td>\n",
              "      <td>NaN</td>\n",
              "      <td>601.0</td>\n",
              "      <td>condo</td>\n",
              "      <td>51.055663</td>\n",
              "      <td>-114.051665</td>\n",
              "      <td>NaN</td>\n",
              "      <td>NaN</td>\n",
              "      <td>1.96207</td>\n",
              "      <td>NaN</td>\n",
              "      <td>NaN</td>\n",
              "      <td>0.0</td>\n",
              "      <td>0.0</td>\n",
              "      <td>T2E 0J9</td>\n",
              "      <td>69.0</td>\n",
              "      <td>98.0</td>\n",
              "      <td>63.0</td>\n",
              "    </tr>\n",
              "  </tbody>\n",
              "</table>\n",
              "</div>"
            ],
            "text/plain": [
              "    price             address  bed  ...  walk_score  bike_score  transit_score\n",
              "0  265000  303 - 515 4 AVE NE  2.0  ...        69.0        98.0           63.0\n",
              "1  265000  303 - 515 4 AVE NE  2.0  ...        69.0        98.0           63.0\n",
              "2  265000  303 - 515 4 AVE NE  2.0  ...        69.0        98.0           63.0\n",
              "3  265000  303 - 515 4 AVE NE  2.0  ...        69.0        98.0           63.0\n",
              "4  265000  303 - 515 4 AVE NE  2.0  ...        69.0        98.0           63.0\n",
              "\n",
              "[5 rows x 20 columns]"
            ]
          },
          "metadata": {
            "tags": []
          },
          "execution_count": 127
        }
      ]
    },
    {
      "cell_type": "markdown",
      "metadata": {
        "id": "CbH0fYscxE-4"
      },
      "source": [
        "## **Analyzing Data**"
      ]
    },
    {
      "cell_type": "code",
      "metadata": {
        "id": "JCW2P4aOcT0t",
        "outputId": "6fafd515-bc57-4573-9b22-2bae978086e6",
        "colab": {
          "base_uri": "https://localhost:8080/"
        }
      },
      "source": [
        "house_info = house_info[house_info[\"price\"] < 1500000]\n",
        "len(house_info)"
      ],
      "execution_count": 128,
      "outputs": [
        {
          "output_type": "execute_result",
          "data": {
            "text/plain": [
              "3481"
            ]
          },
          "metadata": {
            "tags": []
          },
          "execution_count": 128
        }
      ]
    },
    {
      "cell_type": "code",
      "metadata": {
        "id": "zUl3yanQxdnQ",
        "outputId": "01060489-3432-46b6-f5f4-5200d86eab9b",
        "colab": {
          "base_uri": "https://localhost:8080/",
          "height": 405
        }
      },
      "source": [
        "sns.set_style('white')\n",
        "plt.figure(figsize=(10, 6))\n",
        "sns.countplot(x=\"bed\", data=house_info)"
      ],
      "execution_count": 129,
      "outputs": [
        {
          "output_type": "execute_result",
          "data": {
            "text/plain": [
              "<matplotlib.axes._subplots.AxesSubplot at 0x7f8fe3510ef0>"
            ]
          },
          "metadata": {
            "tags": []
          },
          "execution_count": 129
        },
        {
          "output_type": "display_data",
          "data": {
            "image/png": "[encoded data removed]",
            "text/plain": [
              "<Figure size 720x432 with 1 Axes>"
            ]
          },
          "metadata": {
            "tags": []
          }
        }
      ]
    },
    {
      "cell_type": "code",
      "metadata": {
        "id": "RFSaZKkvxnLA",
        "outputId": "52119400-e625-4acd-db05-c75bf84a3369",
        "colab": {
          "base_uri": "https://localhost:8080/",
          "height": 405
        }
      },
      "source": [
        "plt.figure(figsize=(20, 6))\n",
        "sns.histplot(data=house_info, x=\"price\", hue=\"property_type\")"
      ],
      "execution_count": 130,
      "outputs": [
        {
          "output_type": "execute_result",
          "data": {
            "text/plain": [
              "<matplotlib.axes._subplots.AxesSubplot at 0x7f8fe34a0390>"
            ]
          },
          "metadata": {
            "tags": []
          },
          "execution_count": 130
        },
        {
          "output_type": "display_data",
          "data": {
            "image/png": "[encoded data removed]",
            "text/plain": [
              "<Figure size 1440x432 with 1 Axes>"
            ]
          },
          "metadata": {
            "tags": []
          }
        }
      ]
    },
    {
      "cell_type": "markdown",
      "metadata": {
        "id": "YcCNONf0xxo7"
      },
      "source": [
        "# **Data Wrangling**"
      ]
    },
    {
      "cell_type": "code",
      "metadata": {
        "id": "UCxeX9hYx0wa",
        "outputId": "96c3b234-b322-4d3a-d6a6-407feab2e1a8",
        "colab": {
          "base_uri": "https://localhost:8080/"
        }
      },
      "source": [
        "house_info.isnull().sum()"
      ],
      "execution_count": 131,
      "outputs": [
        {
          "output_type": "execute_result",
          "data": {
            "text/plain": [
              "price                   0\n",
              "address                 0\n",
              "bed                    12\n",
              "full_bath              12\n",
              "half_bath            2356\n",
              "property_area           6\n",
              "property_type          36\n",
              "latitude                0\n",
              "longitude               0\n",
              "year_built            465\n",
              "years_old             465\n",
              "distance_downtown       0\n",
              "monthly_payments      130\n",
              "lot_size             2225\n",
              "basement                0\n",
              "garage                  0\n",
              "postal_code             0\n",
              "walk_score             16\n",
              "bike_score             16\n",
              "transit_score          58\n",
              "dtype: int64"
            ]
          },
          "metadata": {
            "tags": []
          },
          "execution_count": 131
        }
      ]
    },
    {
      "cell_type": "code",
      "metadata": {
        "id": "o6PE2vP3zZa5",
        "outputId": "d5cce605-1791-4928-95c1-a32dcc8105de",
        "colab": {
          "base_uri": "https://localhost:8080/",
          "height": 701
        }
      },
      "source": [
        "sns.set_style('white')\n",
        "plt.figure(figsize=(15, 10))\n",
        "sns.heatmap(data=house_info.isnull(), yticklabels=False)"
      ],
      "execution_count": 133,
      "outputs": [
        {
          "output_type": "execute_result",
          "data": {
            "text/plain": [
              "<matplotlib.axes._subplots.AxesSubplot at 0x7f8fe3508fd0>"
            ]
          },
          "metadata": {
            "tags": []
          },
          "execution_count": 133
        },
        {
          "output_type": "display_data",
          "data": {
            "image/png": "[encoded data removed]",
            "text/plain": [
              "<Figure size 1080x720 with 2 Axes>"
            ]
          },
          "metadata": {
            "tags": []
          }
        }
      ]
    },
    {
      "cell_type": "code",
      "metadata": {
        "id": "BaIIR4YnzcWQ"
      },
      "source": [
        "# Replace nan values with average years_old and 0\n",
        "\n",
        "house_info['years_old']=house_info['years_old'].replace(np.nan,house_info['years_old'].mean())\n",
        "house_info['half_bath']=house_info['half_bath'].replace(np.nan,0)\n",
        "# house_info['lot_size']=house_info['lot_size'].replace(np.nan,0)\n",
        "house_info['walk_score']=house_info['walk_score'].replace(np.nan,0)\n",
        "house_info['bike_score']=house_info['bike_score'].replace(np.nan,0)\n",
        "house_info['transit_score']=house_info['transit_score'].replace(np.nan,0)\n",
        "house_info = house_info.dropna(subset=['bed', 'full_bath', 'property_area', 'property_type'])"
      ],
      "execution_count": 134,
      "outputs": []
    },
    {
      "cell_type": "code",
      "metadata": {
        "id": "UGrl7lsD2mDW"
      },
      "source": [
        "del house_info[\"lot_size\"]"
      ],
      "execution_count": 135,
      "outputs": []
    },
    {
      "cell_type": "code",
      "metadata": {
        "id": "6cBXxEE6zzCr",
        "outputId": "a0221f72-a27f-4d70-f201-256174cc25da",
        "colab": {
          "base_uri": "https://localhost:8080/"
        }
      },
      "source": [
        "house_info.isnull().sum()"
      ],
      "execution_count": 136,
      "outputs": [
        {
          "output_type": "execute_result",
          "data": {
            "text/plain": [
              "price                  0\n",
              "address                0\n",
              "bed                    0\n",
              "full_bath              0\n",
              "half_bath              0\n",
              "property_area          0\n",
              "property_type          0\n",
              "latitude               0\n",
              "longitude              0\n",
              "year_built           463\n",
              "years_old              0\n",
              "distance_downtown      0\n",
              "monthly_payments     130\n",
              "basement               0\n",
              "garage                 0\n",
              "postal_code            0\n",
              "walk_score             0\n",
              "bike_score             0\n",
              "transit_score          0\n",
              "dtype: int64"
            ]
          },
          "metadata": {
            "tags": []
          },
          "execution_count": 136
        }
      ]
    },
    {
      "cell_type": "code",
      "metadata": {
        "id": "aUjoIhlPz2Gm",
        "outputId": "9607af69-7007-41ea-ba33-dca053c79186",
        "colab": {
          "base_uri": "https://localhost:8080/",
          "height": 484
        }
      },
      "source": [
        "sns.set_style('white')\n",
        "plt.figure(figsize=(15, 6))\n",
        "sns.heatmap(data=house_info.isnull(), yticklabels=False)"
      ],
      "execution_count": 137,
      "outputs": [
        {
          "output_type": "execute_result",
          "data": {
            "text/plain": [
              "<matplotlib.axes._subplots.AxesSubplot at 0x7f8fe3225a58>"
            ]
          },
          "metadata": {
            "tags": []
          },
          "execution_count": 137
        },
        {
          "output_type": "display_data",
          "data": {
            "image/png": "[encoded data removed]",
            "text/plain": [
              "<Figure size 1080x432 with 2 Axes>"
            ]
          },
          "metadata": {
            "tags": []
          }
        }
      ]
    },
    {
      "cell_type": "code",
      "metadata": {
        "id": "8nIlm88oz-LL",
        "outputId": "9b95aa61-cbad-4f1e-c397-335f9c59aa18",
        "colab": {
          "base_uri": "https://localhost:8080/",
          "height": 394
        }
      },
      "source": [
        "house_info.head()"
      ],
      "execution_count": 138,
      "outputs": [
        {
          "output_type": "execute_result",
          "data": {
            "text/html": [
              "<div>\n",
              "<style scoped>\n",
              "    .dataframe tbody tr th:only-of-type {\n",
              "        vertical-align: middle;\n",
              "    }\n",
              "\n",
              "    .dataframe tbody tr th {\n",
              "        vertical-align: top;\n",
              "    }\n",
              "\n",
              "    .dataframe thead th {\n",
              "        text-align: right;\n",
              "    }\n",
              "</style>\n",
              "<table border=\"1\" class=\"dataframe\">\n",
              "  <thead>\n",
              "    <tr style=\"text-align: right;\">\n",
              "      <th></th>\n",
              "      <th>price</th>\n",
              "      <th>address</th>\n",
              "      <th>bed</th>\n",
              "      <th>full_bath</th>\n",
              "      <th>half_bath</th>\n",
              "      <th>property_area</th>\n",
              "      <th>property_type</th>\n",
              "      <th>latitude</th>\n",
              "      <th>longitude</th>\n",
              "      <th>year_built</th>\n",
              "      <th>years_old</th>\n",
              "      <th>distance_downtown</th>\n",
              "      <th>monthly_payments</th>\n",
              "      <th>basement</th>\n",
              "      <th>garage</th>\n",
              "      <th>postal_code</th>\n",
              "      <th>walk_score</th>\n",
              "      <th>bike_score</th>\n",
              "      <th>transit_score</th>\n",
              "    </tr>\n",
              "  </thead>\n",
              "  <tbody>\n",
              "    <tr>\n",
              "      <th>0</th>\n",
              "      <td>265000</td>\n",
              "      <td>303 - 515 4 AVE NE</td>\n",
              "      <td>2.0</td>\n",
              "      <td>2.0</td>\n",
              "      <td>0.0</td>\n",
              "      <td>601.0</td>\n",
              "      <td>condo</td>\n",
              "      <td>51.055663</td>\n",
              "      <td>-114.051665</td>\n",
              "      <td>2016.0</td>\n",
              "      <td>4.000000</td>\n",
              "      <td>1.96207</td>\n",
              "      <td>1145.89</td>\n",
              "      <td>0.0</td>\n",
              "      <td>0.0</td>\n",
              "      <td>T2E 0J9</td>\n",
              "      <td>69.0</td>\n",
              "      <td>98.0</td>\n",
              "      <td>63.0</td>\n",
              "    </tr>\n",
              "    <tr>\n",
              "      <th>1</th>\n",
              "      <td>265000</td>\n",
              "      <td>303 - 515 4 AVE NE</td>\n",
              "      <td>2.0</td>\n",
              "      <td>2.0</td>\n",
              "      <td>0.0</td>\n",
              "      <td>601.0</td>\n",
              "      <td>condo</td>\n",
              "      <td>51.055663</td>\n",
              "      <td>-114.051665</td>\n",
              "      <td>1995.0</td>\n",
              "      <td>25.000000</td>\n",
              "      <td>1.96207</td>\n",
              "      <td>1145.89</td>\n",
              "      <td>0.0</td>\n",
              "      <td>0.0</td>\n",
              "      <td>T2E 0J9</td>\n",
              "      <td>69.0</td>\n",
              "      <td>98.0</td>\n",
              "      <td>63.0</td>\n",
              "    </tr>\n",
              "    <tr>\n",
              "      <th>2</th>\n",
              "      <td>265000</td>\n",
              "      <td>303 - 515 4 AVE NE</td>\n",
              "      <td>2.0</td>\n",
              "      <td>2.0</td>\n",
              "      <td>0.0</td>\n",
              "      <td>601.0</td>\n",
              "      <td>condo</td>\n",
              "      <td>51.055663</td>\n",
              "      <td>-114.051665</td>\n",
              "      <td>1999.0</td>\n",
              "      <td>21.000000</td>\n",
              "      <td>1.96207</td>\n",
              "      <td>1145.89</td>\n",
              "      <td>0.0</td>\n",
              "      <td>0.0</td>\n",
              "      <td>T2E 0J9</td>\n",
              "      <td>69.0</td>\n",
              "      <td>98.0</td>\n",
              "      <td>63.0</td>\n",
              "    </tr>\n",
              "    <tr>\n",
              "      <th>3</th>\n",
              "      <td>265000</td>\n",
              "      <td>303 - 515 4 AVE NE</td>\n",
              "      <td>2.0</td>\n",
              "      <td>2.0</td>\n",
              "      <td>0.0</td>\n",
              "      <td>601.0</td>\n",
              "      <td>condo</td>\n",
              "      <td>51.055663</td>\n",
              "      <td>-114.051665</td>\n",
              "      <td>2005.0</td>\n",
              "      <td>15.000000</td>\n",
              "      <td>1.96207</td>\n",
              "      <td>NaN</td>\n",
              "      <td>0.0</td>\n",
              "      <td>0.0</td>\n",
              "      <td>T2E 0J9</td>\n",
              "      <td>69.0</td>\n",
              "      <td>98.0</td>\n",
              "      <td>63.0</td>\n",
              "    </tr>\n",
              "    <tr>\n",
              "      <th>4</th>\n",
              "      <td>265000</td>\n",
              "      <td>303 - 515 4 AVE NE</td>\n",
              "      <td>2.0</td>\n",
              "      <td>2.0</td>\n",
              "      <td>0.0</td>\n",
              "      <td>601.0</td>\n",
              "      <td>condo</td>\n",
              "      <td>51.055663</td>\n",
              "      <td>-114.051665</td>\n",
              "      <td>NaN</td>\n",
              "      <td>41.512599</td>\n",
              "      <td>1.96207</td>\n",
              "      <td>NaN</td>\n",
              "      <td>0.0</td>\n",
              "      <td>0.0</td>\n",
              "      <td>T2E 0J9</td>\n",
              "      <td>69.0</td>\n",
              "      <td>98.0</td>\n",
              "      <td>63.0</td>\n",
              "    </tr>\n",
              "  </tbody>\n",
              "</table>\n",
              "</div>"
            ],
            "text/plain": [
              "    price             address  bed  ...  walk_score  bike_score  transit_score\n",
              "0  265000  303 - 515 4 AVE NE  2.0  ...        69.0        98.0           63.0\n",
              "1  265000  303 - 515 4 AVE NE  2.0  ...        69.0        98.0           63.0\n",
              "2  265000  303 - 515 4 AVE NE  2.0  ...        69.0        98.0           63.0\n",
              "3  265000  303 - 515 4 AVE NE  2.0  ...        69.0        98.0           63.0\n",
              "4  265000  303 - 515 4 AVE NE  2.0  ...        69.0        98.0           63.0\n",
              "\n",
              "[5 rows x 19 columns]"
            ]
          },
          "metadata": {
            "tags": []
          },
          "execution_count": 138
        }
      ]
    },
    {
      "cell_type": "markdown",
      "metadata": {
        "id": "-tHxFogl0MJh"
      },
      "source": [
        "# **One-hot encoding**"
      ]
    },
    {
      "cell_type": "code",
      "metadata": {
        "id": "dCkRAc1Z0T2a",
        "outputId": "18ef9727-685a-4896-a4c3-609ac66de24e",
        "colab": {
          "base_uri": "https://localhost:8080/",
          "height": 204
        }
      },
      "source": [
        "prop_area = pd.get_dummies(house_info[\"property_type\"])\n",
        "prop_area.head()"
      ],
      "execution_count": 139,
      "outputs": [
        {
          "output_type": "execute_result",
          "data": {
            "text/html": [
              "<div>\n",
              "<style scoped>\n",
              "    .dataframe tbody tr th:only-of-type {\n",
              "        vertical-align: middle;\n",
              "    }\n",
              "\n",
              "    .dataframe tbody tr th {\n",
              "        vertical-align: top;\n",
              "    }\n",
              "\n",
              "    .dataframe thead th {\n",
              "        text-align: right;\n",
              "    }\n",
              "</style>\n",
              "<table border=\"1\" class=\"dataframe\">\n",
              "  <thead>\n",
              "    <tr style=\"text-align: right;\">\n",
              "      <th></th>\n",
              "      <th>condo</th>\n",
              "      <th>house</th>\n",
              "      <th>townhouse</th>\n",
              "    </tr>\n",
              "  </thead>\n",
              "  <tbody>\n",
              "    <tr>\n",
              "      <th>0</th>\n",
              "      <td>1</td>\n",
              "      <td>0</td>\n",
              "      <td>0</td>\n",
              "    </tr>\n",
              "    <tr>\n",
              "      <th>1</th>\n",
              "      <td>1</td>\n",
              "      <td>0</td>\n",
              "      <td>0</td>\n",
              "    </tr>\n",
              "    <tr>\n",
              "      <th>2</th>\n",
              "      <td>1</td>\n",
              "      <td>0</td>\n",
              "      <td>0</td>\n",
              "    </tr>\n",
              "    <tr>\n",
              "      <th>3</th>\n",
              "      <td>1</td>\n",
              "      <td>0</td>\n",
              "      <td>0</td>\n",
              "    </tr>\n",
              "    <tr>\n",
              "      <th>4</th>\n",
              "      <td>1</td>\n",
              "      <td>0</td>\n",
              "      <td>0</td>\n",
              "    </tr>\n",
              "  </tbody>\n",
              "</table>\n",
              "</div>"
            ],
            "text/plain": [
              "   condo  house  townhouse\n",
              "0      1      0          0\n",
              "1      1      0          0\n",
              "2      1      0          0\n",
              "3      1      0          0\n",
              "4      1      0          0"
            ]
          },
          "metadata": {
            "tags": []
          },
          "execution_count": 139
        }
      ]
    },
    {
      "cell_type": "markdown",
      "metadata": {
        "id": "yoL5ftFU0hJD"
      },
      "source": [
        "## **Merge tables**"
      ]
    },
    {
      "cell_type": "code",
      "metadata": {
        "id": "E-4b_BrM0lD7",
        "outputId": "56e71afe-4f11-4653-e425-ef2bdc12faf4",
        "colab": {
          "base_uri": "https://localhost:8080/",
          "height": 394
        }
      },
      "source": [
        "table_df = pd.concat([house_info, prop_area], axis=1)\n",
        "table_df.head()"
      ],
      "execution_count": 140,
      "outputs": [
        {
          "output_type": "execute_result",
          "data": {
            "text/html": [
              "<div>\n",
              "<style scoped>\n",
              "    .dataframe tbody tr th:only-of-type {\n",
              "        vertical-align: middle;\n",
              "    }\n",
              "\n",
              "    .dataframe tbody tr th {\n",
              "        vertical-align: top;\n",
              "    }\n",
              "\n",
              "    .dataframe thead th {\n",
              "        text-align: right;\n",
              "    }\n",
              "</style>\n",
              "<table border=\"1\" class=\"dataframe\">\n",
              "  <thead>\n",
              "    <tr style=\"text-align: right;\">\n",
              "      <th></th>\n",
              "      <th>price</th>\n",
              "      <th>address</th>\n",
              "      <th>bed</th>\n",
              "      <th>full_bath</th>\n",
              "      <th>half_bath</th>\n",
              "      <th>property_area</th>\n",
              "      <th>property_type</th>\n",
              "      <th>latitude</th>\n",
              "      <th>longitude</th>\n",
              "      <th>year_built</th>\n",
              "      <th>years_old</th>\n",
              "      <th>distance_downtown</th>\n",
              "      <th>monthly_payments</th>\n",
              "      <th>basement</th>\n",
              "      <th>garage</th>\n",
              "      <th>postal_code</th>\n",
              "      <th>walk_score</th>\n",
              "      <th>bike_score</th>\n",
              "      <th>transit_score</th>\n",
              "      <th>condo</th>\n",
              "      <th>house</th>\n",
              "      <th>townhouse</th>\n",
              "    </tr>\n",
              "  </thead>\n",
              "  <tbody>\n",
              "    <tr>\n",
              "      <th>0</th>\n",
              "      <td>265000</td>\n",
              "      <td>303 - 515 4 AVE NE</td>\n",
              "      <td>2.0</td>\n",
              "      <td>2.0</td>\n",
              "      <td>0.0</td>\n",
              "      <td>601.0</td>\n",
              "      <td>condo</td>\n",
              "      <td>51.055663</td>\n",
              "      <td>-114.051665</td>\n",
              "      <td>2016.0</td>\n",
              "      <td>4.000000</td>\n",
              "      <td>1.96207</td>\n",
              "      <td>1145.89</td>\n",
              "      <td>0.0</td>\n",
              "      <td>0.0</td>\n",
              "      <td>T2E 0J9</td>\n",
              "      <td>69.0</td>\n",
              "      <td>98.0</td>\n",
              "      <td>63.0</td>\n",
              "      <td>1</td>\n",
              "      <td>0</td>\n",
              "      <td>0</td>\n",
              "    </tr>\n",
              "    <tr>\n",
              "      <th>1</th>\n",
              "      <td>265000</td>\n",
              "      <td>303 - 515 4 AVE NE</td>\n",
              "      <td>2.0</td>\n",
              "      <td>2.0</td>\n",
              "      <td>0.0</td>\n",
              "      <td>601.0</td>\n",
              "      <td>condo</td>\n",
              "      <td>51.055663</td>\n",
              "      <td>-114.051665</td>\n",
              "      <td>1995.0</td>\n",
              "      <td>25.000000</td>\n",
              "      <td>1.96207</td>\n",
              "      <td>1145.89</td>\n",
              "      <td>0.0</td>\n",
              "      <td>0.0</td>\n",
              "      <td>T2E 0J9</td>\n",
              "      <td>69.0</td>\n",
              "      <td>98.0</td>\n",
              "      <td>63.0</td>\n",
              "      <td>1</td>\n",
              "      <td>0</td>\n",
              "      <td>0</td>\n",
              "    </tr>\n",
              "    <tr>\n",
              "      <th>2</th>\n",
              "      <td>265000</td>\n",
              "      <td>303 - 515 4 AVE NE</td>\n",
              "      <td>2.0</td>\n",
              "      <td>2.0</td>\n",
              "      <td>0.0</td>\n",
              "      <td>601.0</td>\n",
              "      <td>condo</td>\n",
              "      <td>51.055663</td>\n",
              "      <td>-114.051665</td>\n",
              "      <td>1999.0</td>\n",
              "      <td>21.000000</td>\n",
              "      <td>1.96207</td>\n",
              "      <td>1145.89</td>\n",
              "      <td>0.0</td>\n",
              "      <td>0.0</td>\n",
              "      <td>T2E 0J9</td>\n",
              "      <td>69.0</td>\n",
              "      <td>98.0</td>\n",
              "      <td>63.0</td>\n",
              "      <td>1</td>\n",
              "      <td>0</td>\n",
              "      <td>0</td>\n",
              "    </tr>\n",
              "    <tr>\n",
              "      <th>3</th>\n",
              "      <td>265000</td>\n",
              "      <td>303 - 515 4 AVE NE</td>\n",
              "      <td>2.0</td>\n",
              "      <td>2.0</td>\n",
              "      <td>0.0</td>\n",
              "      <td>601.0</td>\n",
              "      <td>condo</td>\n",
              "      <td>51.055663</td>\n",
              "      <td>-114.051665</td>\n",
              "      <td>2005.0</td>\n",
              "      <td>15.000000</td>\n",
              "      <td>1.96207</td>\n",
              "      <td>NaN</td>\n",
              "      <td>0.0</td>\n",
              "      <td>0.0</td>\n",
              "      <td>T2E 0J9</td>\n",
              "      <td>69.0</td>\n",
              "      <td>98.0</td>\n",
              "      <td>63.0</td>\n",
              "      <td>1</td>\n",
              "      <td>0</td>\n",
              "      <td>0</td>\n",
              "    </tr>\n",
              "    <tr>\n",
              "      <th>4</th>\n",
              "      <td>265000</td>\n",
              "      <td>303 - 515 4 AVE NE</td>\n",
              "      <td>2.0</td>\n",
              "      <td>2.0</td>\n",
              "      <td>0.0</td>\n",
              "      <td>601.0</td>\n",
              "      <td>condo</td>\n",
              "      <td>51.055663</td>\n",
              "      <td>-114.051665</td>\n",
              "      <td>NaN</td>\n",
              "      <td>41.512599</td>\n",
              "      <td>1.96207</td>\n",
              "      <td>NaN</td>\n",
              "      <td>0.0</td>\n",
              "      <td>0.0</td>\n",
              "      <td>T2E 0J9</td>\n",
              "      <td>69.0</td>\n",
              "      <td>98.0</td>\n",
              "      <td>63.0</td>\n",
              "      <td>1</td>\n",
              "      <td>0</td>\n",
              "      <td>0</td>\n",
              "    </tr>\n",
              "  </tbody>\n",
              "</table>\n",
              "</div>"
            ],
            "text/plain": [
              "    price             address  bed  ...  condo  house  townhouse\n",
              "0  265000  303 - 515 4 AVE NE  2.0  ...      1      0          0\n",
              "1  265000  303 - 515 4 AVE NE  2.0  ...      1      0          0\n",
              "2  265000  303 - 515 4 AVE NE  2.0  ...      1      0          0\n",
              "3  265000  303 - 515 4 AVE NE  2.0  ...      1      0          0\n",
              "4  265000  303 - 515 4 AVE NE  2.0  ...      1      0          0\n",
              "\n",
              "[5 rows x 22 columns]"
            ]
          },
          "metadata": {
            "tags": []
          },
          "execution_count": 140
        }
      ]
    },
    {
      "cell_type": "code",
      "metadata": {
        "id": "EJ_iQAP_0rNA",
        "outputId": "1ea702ea-479c-4bf9-b21a-a4dbab5aab53",
        "colab": {
          "base_uri": "https://localhost:8080/",
          "height": 204
        }
      },
      "source": [
        "df = table_df[['price', 'bed', 'full_bath', 'half_bath', 'property_area', 'condo',\n",
        "                 'house', 'townhouse', 'years_old', 'distance_downtown', 'walk_score', 'bike_score', 'transit_score', 'basement', 'garage']]\n",
        "df.head()"
      ],
      "execution_count": 141,
      "outputs": [
        {
          "output_type": "execute_result",
          "data": {
            "text/html": [
              "<div>\n",
              "<style scoped>\n",
              "    .dataframe tbody tr th:only-of-type {\n",
              "        vertical-align: middle;\n",
              "    }\n",
              "\n",
              "    .dataframe tbody tr th {\n",
              "        vertical-align: top;\n",
              "    }\n",
              "\n",
              "    .dataframe thead th {\n",
              "        text-align: right;\n",
              "    }\n",
              "</style>\n",
              "<table border=\"1\" class=\"dataframe\">\n",
              "  <thead>\n",
              "    <tr style=\"text-align: right;\">\n",
              "      <th></th>\n",
              "      <th>price</th>\n",
              "      <th>bed</th>\n",
              "      <th>full_bath</th>\n",
              "      <th>half_bath</th>\n",
              "      <th>property_area</th>\n",
              "      <th>condo</th>\n",
              "      <th>house</th>\n",
              "      <th>townhouse</th>\n",
              "      <th>years_old</th>\n",
              "      <th>distance_downtown</th>\n",
              "      <th>walk_score</th>\n",
              "      <th>bike_score</th>\n",
              "      <th>transit_score</th>\n",
              "      <th>basement</th>\n",
              "      <th>garage</th>\n",
              "    </tr>\n",
              "  </thead>\n",
              "  <tbody>\n",
              "    <tr>\n",
              "      <th>0</th>\n",
              "      <td>265000</td>\n",
              "      <td>2.0</td>\n",
              "      <td>2.0</td>\n",
              "      <td>0.0</td>\n",
              "      <td>601.0</td>\n",
              "      <td>1</td>\n",
              "      <td>0</td>\n",
              "      <td>0</td>\n",
              "      <td>4.000000</td>\n",
              "      <td>1.96207</td>\n",
              "      <td>69.0</td>\n",
              "      <td>98.0</td>\n",
              "      <td>63.0</td>\n",
              "      <td>0.0</td>\n",
              "      <td>0.0</td>\n",
              "    </tr>\n",
              "    <tr>\n",
              "      <th>1</th>\n",
              "      <td>265000</td>\n",
              "      <td>2.0</td>\n",
              "      <td>2.0</td>\n",
              "      <td>0.0</td>\n",
              "      <td>601.0</td>\n",
              "      <td>1</td>\n",
              "      <td>0</td>\n",
              "      <td>0</td>\n",
              "      <td>25.000000</td>\n",
              "      <td>1.96207</td>\n",
              "      <td>69.0</td>\n",
              "      <td>98.0</td>\n",
              "      <td>63.0</td>\n",
              "      <td>0.0</td>\n",
              "      <td>0.0</td>\n",
              "    </tr>\n",
              "    <tr>\n",
              "      <th>2</th>\n",
              "      <td>265000</td>\n",
              "      <td>2.0</td>\n",
              "      <td>2.0</td>\n",
              "      <td>0.0</td>\n",
              "      <td>601.0</td>\n",
              "      <td>1</td>\n",
              "      <td>0</td>\n",
              "      <td>0</td>\n",
              "      <td>21.000000</td>\n",
              "      <td>1.96207</td>\n",
              "      <td>69.0</td>\n",
              "      <td>98.0</td>\n",
              "      <td>63.0</td>\n",
              "      <td>0.0</td>\n",
              "      <td>0.0</td>\n",
              "    </tr>\n",
              "    <tr>\n",
              "      <th>3</th>\n",
              "      <td>265000</td>\n",
              "      <td>2.0</td>\n",
              "      <td>2.0</td>\n",
              "      <td>0.0</td>\n",
              "      <td>601.0</td>\n",
              "      <td>1</td>\n",
              "      <td>0</td>\n",
              "      <td>0</td>\n",
              "      <td>15.000000</td>\n",
              "      <td>1.96207</td>\n",
              "      <td>69.0</td>\n",
              "      <td>98.0</td>\n",
              "      <td>63.0</td>\n",
              "      <td>0.0</td>\n",
              "      <td>0.0</td>\n",
              "    </tr>\n",
              "    <tr>\n",
              "      <th>4</th>\n",
              "      <td>265000</td>\n",
              "      <td>2.0</td>\n",
              "      <td>2.0</td>\n",
              "      <td>0.0</td>\n",
              "      <td>601.0</td>\n",
              "      <td>1</td>\n",
              "      <td>0</td>\n",
              "      <td>0</td>\n",
              "      <td>41.512599</td>\n",
              "      <td>1.96207</td>\n",
              "      <td>69.0</td>\n",
              "      <td>98.0</td>\n",
              "      <td>63.0</td>\n",
              "      <td>0.0</td>\n",
              "      <td>0.0</td>\n",
              "    </tr>\n",
              "  </tbody>\n",
              "</table>\n",
              "</div>"
            ],
            "text/plain": [
              "    price  bed  full_bath  ...  transit_score  basement  garage\n",
              "0  265000  2.0        2.0  ...           63.0       0.0     0.0\n",
              "1  265000  2.0        2.0  ...           63.0       0.0     0.0\n",
              "2  265000  2.0        2.0  ...           63.0       0.0     0.0\n",
              "3  265000  2.0        2.0  ...           63.0       0.0     0.0\n",
              "4  265000  2.0        2.0  ...           63.0       0.0     0.0\n",
              "\n",
              "[5 rows x 15 columns]"
            ]
          },
          "metadata": {
            "tags": []
          },
          "execution_count": 141
        }
      ]
    },
    {
      "cell_type": "code",
      "metadata": {
        "id": "oPcTUgTkytom",
        "outputId": "120d7611-42e0-4ea0-db09-d7d87aa08f6e",
        "colab": {
          "base_uri": "https://localhost:8080/"
        }
      },
      "source": [
        "df.dtypes"
      ],
      "execution_count": 142,
      "outputs": [
        {
          "output_type": "execute_result",
          "data": {
            "text/plain": [
              "price                  int64\n",
              "bed                  float64\n",
              "full_bath            float64\n",
              "half_bath            float64\n",
              "property_area        float64\n",
              "condo                  uint8\n",
              "house                  uint8\n",
              "townhouse              uint8\n",
              "years_old            float64\n",
              "distance_downtown    float64\n",
              "walk_score           float64\n",
              "bike_score           float64\n",
              "transit_score        float64\n",
              "basement             float64\n",
              "garage               float64\n",
              "dtype: object"
            ]
          },
          "metadata": {
            "tags": []
          },
          "execution_count": 142
        }
      ]
    },
    {
      "cell_type": "markdown",
      "metadata": {
        "id": "ZEO3JYuN0xni"
      },
      "source": [
        "## **Train Data**"
      ]
    },
    {
      "cell_type": "code",
      "metadata": {
        "id": "jjuwKzSw011r"
      },
      "source": [
        "X = df.drop('price', axis=1)\n",
        "y = df['price']"
      ],
      "execution_count": 144,
      "outputs": []
    },
    {
      "cell_type": "code",
      "metadata": {
        "id": "anc2zGhl05JL"
      },
      "source": [
        "# Use train_test_split to create training and testing data\n",
        "from sklearn.model_selection import train_test_split\n",
        "\n",
        "X_train, X_test, y_train, y_test = train_test_split(X, y, random_state=42)"
      ],
      "execution_count": 145,
      "outputs": []
    },
    {
      "cell_type": "code",
      "metadata": {
        "id": "0w1g3BidnSY1",
        "outputId": "c90fc44a-4d19-432d-a3e4-509beff312f9",
        "colab": {
          "base_uri": "https://localhost:8080/"
        }
      },
      "source": [
        "from sklearn.preprocessing import MinMaxScaler\n",
        "from sklearn.feature_selection import SelectKBest\n",
        "from sklearn.feature_selection import chi2\n",
        "\n",
        "X_minmax = MinMaxScaler().fit(X_train)\n",
        "\n",
        "X_train_minmax = X_minmax.transform(X_train)\n",
        "X_test_minmax = X_minmax.transform(X_test)\n",
        "\n",
        "\n",
        "\n",
        "#apply SelectKBest class to extract top 10 best features\n",
        "bestfeatures = SelectKBest(score_func=chi2, k='all')\n",
        "fit = bestfeatures.fit(X_train_minmax,y_train)\n",
        "dfscores = pd.DataFrame(fit.scores_)\n",
        "dfcolumns = pd.DataFrame(X.columns)\n",
        "#concat two dataframes for better visualization \n",
        "featureScores = pd.concat([dfcolumns,dfscores],axis=1)\n",
        "featureScores.columns = ['Specs','Score']  #naming the dataframe columns\n",
        "top_features = featureScores.nlargest(10,'Score')\n",
        "print(top_features)  #print best features"
      ],
      "execution_count": 146,
      "outputs": [
        {
          "output_type": "stream",
          "text": [
            "            Specs        Score\n",
            "5           house  1442.815564\n",
            "6       townhouse  1420.303179\n",
            "12       basement  1282.556007\n",
            "4           condo   706.846164\n",
            "2       half_bath   673.546224\n",
            "13         garage   634.008223\n",
            "1       full_bath   368.404653\n",
            "9      walk_score   308.320990\n",
            "0             bed   291.221939\n",
            "3   property_area   256.415885\n"
          ],
          "name": "stdout"
        }
      ]
    },
    {
      "cell_type": "code",
      "metadata": {
        "id": "7s8FxnfQ07c-"
      },
      "source": [
        "# Create the model using LinearRegression\n",
        "\n",
        "from sklearn.linear_model import LinearRegression\n",
        "model = LinearRegression()"
      ],
      "execution_count": 147,
      "outputs": []
    },
    {
      "cell_type": "code",
      "metadata": {
        "id": "imE5A-_O099k",
        "outputId": "7831bf10-3fa4-40ec-dd75-b1890c50d7e6",
        "colab": {
          "base_uri": "https://localhost:8080/"
        }
      },
      "source": [
        "# Fit the model to the training data and calculate the score for the training data\n",
        "\n",
        "model.fit(X_train_minmax, y_train)\n",
        "training_score = model.score(X_train_minmax, y_train)\n",
        "\n",
        "print(f\"Training Score: {training_score}\")"
      ],
      "execution_count": 148,
      "outputs": [
        {
          "output_type": "stream",
          "text": [
            "Training Score: 0.7168623257284921\n"
          ],
          "name": "stdout"
        }
      ]
    },
    {
      "cell_type": "markdown",
      "metadata": {
        "id": "PO-FkH3w1DpK"
      },
      "source": [
        "## **Test Data**"
      ]
    },
    {
      "cell_type": "code",
      "metadata": {
        "id": "t_FVyL_X1Bzc",
        "outputId": "00af6df0-b076-4ada-dcbd-f485362a7f9c",
        "colab": {
          "base_uri": "https://localhost:8080/"
        }
      },
      "source": [
        "# Calculate the score for the testing data\n",
        "\n",
        "testing_score = model.score(X_test_minmax, y_test)\n",
        "print(f\"Testing Score: {testing_score}\")"
      ],
      "execution_count": 149,
      "outputs": [
        {
          "output_type": "stream",
          "text": [
            "Testing Score: 0.7183666728706375\n"
          ],
          "name": "stdout"
        }
      ]
    },
    {
      "cell_type": "markdown",
      "metadata": {
        "id": "JUY6EoMP1ZkQ"
      },
      "source": [
        "## **Linear Regression Model**"
      ]
    },
    {
      "cell_type": "code",
      "metadata": {
        "id": "QddIt6tB1Rbj",
        "outputId": "218a4fa0-3542-4da7-84c2-a7ffeef571b4",
        "colab": {
          "base_uri": "https://localhost:8080/"
        }
      },
      "source": [
        "from sklearn import linear_model\n",
        "regr = linear_model.LinearRegression()\n",
        "regr.fit(X, y)"
      ],
      "execution_count": 150,
      "outputs": [
        {
          "output_type": "execute_result",
          "data": {
            "text/plain": [
              "LinearRegression(copy_X=True, fit_intercept=True, n_jobs=None, normalize=False)"
            ]
          },
          "metadata": {
            "tags": []
          },
          "execution_count": 150
        }
      ]
    },
    {
      "cell_type": "code",
      "metadata": {
        "id": "EMEItztG1hE5",
        "outputId": "4cd8a19f-d812-49e3-8b1c-fa9a99164d4e",
        "colab": {
          "base_uri": "https://localhost:8080/"
        }
      },
      "source": [
        "regr.coef_"
      ],
      "execution_count": 151,
      "outputs": [
        {
          "output_type": "execute_result",
          "data": {
            "text/plain": [
              "array([-2.89462794e+03,  5.58996864e+04, -9.77592120e+02,  2.51318635e+02,\n",
              "       -5.90209583e+04,  1.07852090e+05, -4.88311313e+04,  6.47057834e+00,\n",
              "       -7.32888127e+03,  3.31926472e+02, -3.22577459e+02,  6.73282522e+02,\n",
              "       -9.46641679e+04,  1.26164825e+04])"
            ]
          },
          "metadata": {
            "tags": []
          },
          "execution_count": 151
        }
      ]
    },
    {
      "cell_type": "code",
      "metadata": {
        "id": "mX5xLjO91lDY",
        "outputId": "91094d6d-7811-4e40-8d47-d4e4ddab24e1",
        "colab": {
          "base_uri": "https://localhost:8080/"
        }
      },
      "source": [
        "regr.intercept_"
      ],
      "execution_count": 152,
      "outputs": [
        {
          "output_type": "execute_result",
          "data": {
            "text/plain": [
              "80860.65034125018"
            ]
          },
          "metadata": {
            "tags": []
          },
          "execution_count": 152
        }
      ]
    },
    {
      "cell_type": "code",
      "metadata": {
        "id": "CKakb__d1n3X",
        "outputId": "9e8c7342-c376-40c9-faad-91ccb1ccc6d9",
        "colab": {
          "base_uri": "https://localhost:8080/"
        }
      },
      "source": [
        "# Predict the price of a townhouse with the following features\n",
        "\n",
        "# bed = 3\n",
        "# full_bath = 2\n",
        "# half_bath = 0\n",
        "# property_area = 1500\n",
        "# years_old = 15\n",
        "# distance_downtown = 12.554\n",
        "\n",
        "regr.predict([[3, 2, 0, 1500, 0, 0, 1, 15, 12.554, 50, 50, 50, 0, 0]])"
      ],
      "execution_count": 154,
      "outputs": [
        {
          "output_type": "execute_result",
          "data": {
            "text/plain": [
              "array([454344.82032758])"
            ]
          },
          "metadata": {
            "tags": []
          },
          "execution_count": 154
        }
      ]
    },
    {
      "cell_type": "code",
      "metadata": {
        "id": "x51nbaZY1rId",
        "outputId": "4f902151-10d1-451f-9425-e89031fedfe9",
        "colab": {
          "base_uri": "https://localhost:8080/"
        }
      },
      "source": [
        "# Another sample\n",
        "\n",
        "regr.predict([[3, 3, 0, 1200, 0, 0, 1, 15, 14.2, 50, 50, 50, 0, 0]])"
      ],
      "execution_count": 155,
      "outputs": [
        {
          "output_type": "execute_result",
          "data": {
            "text/plain": [
              "array([422785.57774262])"
            ]
          },
          "metadata": {
            "tags": []
          },
          "execution_count": 155
        }
      ]
    },
    {
      "cell_type": "code",
      "metadata": {
        "id": "-laO_N7h1xrm",
        "outputId": "2b22ce39-78d3-4ddc-bd52-4214c7d1eed7",
        "colab": {
          "base_uri": "https://localhost:8080/",
          "height": 638
        }
      },
      "source": [
        "# Plot the Residuals for the Training and Testing data\n",
        "\n",
        "plt.figure(figsize=(10, 10))\n",
        "plt.scatter(model.predict(X_train_minmax), model.predict(X_train_minmax) - y_train, c=\"blue\", label=\"Training Data\")\n",
        "plt.scatter(model.predict(X_test_minmax), model.predict(X_test_minmax) - y_test, c=\"orange\", label=\"Testing Data\")\n",
        "plt.legend()\n",
        "plt.hlines(y=0, xmin=y.min(), xmax=y.max())\n",
        "plt.title(\"Residual Plot\")"
      ],
      "execution_count": 157,
      "outputs": [
        {
          "output_type": "execute_result",
          "data": {
            "text/plain": [
              "Text(0.5, 1.0, 'Residual Plot')"
            ]
          },
          "metadata": {
            "tags": []
          },
          "execution_count": 157
        },
        {
          "output_type": "display_data",
          "data": {
            "image/png": "[encoded data removed]",
            "text/plain": [
              "<Figure size 720x720 with 1 Axes>"
            ]
          },
          "metadata": {
            "tags": []
          }
        }
      ]
    },
    {
      "cell_type": "code",
      "metadata": {
        "id": "phx2pdBA11Os"
      },
      "source": [
        ""
      ],
      "execution_count": null,
      "outputs": []
    }
  ]
}