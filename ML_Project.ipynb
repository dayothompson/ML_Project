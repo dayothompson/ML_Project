{
  "nbformat": 4,
  "nbformat_minor": 0,
  "metadata": {
    "colab": {
      "name": "ML Project.ipynb",
      "provenance": [],
      "collapsed_sections": [],
      "authorship_tag": "ABX9TyNz+YwumkOZXxzAvpP9d5xE",
      "include_colab_link": true
    },
    "kernelspec": {
      "name": "python3",
      "display_name": "Python 3"
    }
  },
  "cells": [
    {
      "cell_type": "markdown",
      "metadata": {
        "id": "view-in-github",
        "colab_type": "text"
      },
      "source": [
        "<a href=\"https://colab.research.google.com/github/dayothompson/ML_Project/blob/working_branch/ML_Project.ipynb\" target=\"_parent\"><img src=\"https://colab.research.google.com/assets/colab-badge.svg\" alt=\"Open In Colab\"/></a>"
      ]
    },
    {
      "cell_type": "code",
      "metadata": {
        "id": "DSrM0YAdvppr"
      },
      "source": [
        "import pandas as pd\n",
        "import numpy as np\n",
        "import matplotlib.pyplot as plt\n",
        "import seaborn as sns\n",
        "import math\n",
        "%matplotlib inline\n",
        "import warnings\n",
        "warnings.filterwarnings(\"ignore\")"
      ],
      "execution_count": 1,
      "outputs": []
    },
    {
      "cell_type": "code",
      "metadata": {
        "id": "lqc8RaeUv3G0",
        "outputId": "edfb4bad-0e4a-4cf2-b7c2-bff1d872a388",
        "colab": {
          "base_uri": "https://localhost:8080/",
          "height": 394
        }
      },
      "source": [
        "# house_info = pd.read_csv(\"https://dayotestdb.s3.us-east-2.amazonaws.com/test2.csv\")\n",
        "house_info = pd.read_csv(\"https://dayotestdb.s3.us-east-2.amazonaws.com/listings_and_scores2.csv\")\n",
        "house_info.head()"
      ],
      "execution_count": 54,
      "outputs": [
        {
          "output_type": "execute_result",
          "data": {
            "text/html": [
              "<div>\n",
              "<style scoped>\n",
              "    .dataframe tbody tr th:only-of-type {\n",
              "        vertical-align: middle;\n",
              "    }\n",
              "\n",
              "    .dataframe tbody tr th {\n",
              "        vertical-align: top;\n",
              "    }\n",
              "\n",
              "    .dataframe thead th {\n",
              "        text-align: right;\n",
              "    }\n",
              "</style>\n",
              "<table border=\"1\" class=\"dataframe\">\n",
              "  <thead>\n",
              "    <tr style=\"text-align: right;\">\n",
              "      <th></th>\n",
              "      <th>price</th>\n",
              "      <th>address</th>\n",
              "      <th>bed</th>\n",
              "      <th>full_bath</th>\n",
              "      <th>half_bath</th>\n",
              "      <th>property_area</th>\n",
              "      <th>property_type</th>\n",
              "      <th>latitude</th>\n",
              "      <th>longitude</th>\n",
              "      <th>year_built</th>\n",
              "      <th>years_old</th>\n",
              "      <th>distance_downtown</th>\n",
              "      <th>monthly_payments</th>\n",
              "      <th>lot_size</th>\n",
              "      <th>basement</th>\n",
              "      <th>garage</th>\n",
              "      <th>postal_code</th>\n",
              "      <th>walk_score</th>\n",
              "      <th>bike_score</th>\n",
              "      <th>transit_score</th>\n",
              "    </tr>\n",
              "  </thead>\n",
              "  <tbody>\n",
              "    <tr>\n",
              "      <th>0</th>\n",
              "      <td>265000</td>\n",
              "      <td>303 - 515 4 AVE NE</td>\n",
              "      <td>2.0</td>\n",
              "      <td>2.0</td>\n",
              "      <td>NaN</td>\n",
              "      <td>601.0</td>\n",
              "      <td>condo</td>\n",
              "      <td>51.055663</td>\n",
              "      <td>-114.051665</td>\n",
              "      <td>2016.0</td>\n",
              "      <td>4.0</td>\n",
              "      <td>1.96207</td>\n",
              "      <td>1145.89</td>\n",
              "      <td>NaN</td>\n",
              "      <td>0.0</td>\n",
              "      <td>0.0</td>\n",
              "      <td>T2E 0J9</td>\n",
              "      <td>69.0</td>\n",
              "      <td>98.0</td>\n",
              "      <td>63.0</td>\n",
              "    </tr>\n",
              "    <tr>\n",
              "      <th>1</th>\n",
              "      <td>265000</td>\n",
              "      <td>303 - 515 4 AVE NE</td>\n",
              "      <td>2.0</td>\n",
              "      <td>2.0</td>\n",
              "      <td>NaN</td>\n",
              "      <td>601.0</td>\n",
              "      <td>condo</td>\n",
              "      <td>51.055663</td>\n",
              "      <td>-114.051665</td>\n",
              "      <td>1995.0</td>\n",
              "      <td>25.0</td>\n",
              "      <td>1.96207</td>\n",
              "      <td>1145.89</td>\n",
              "      <td>NaN</td>\n",
              "      <td>0.0</td>\n",
              "      <td>0.0</td>\n",
              "      <td>T2E 0J9</td>\n",
              "      <td>69.0</td>\n",
              "      <td>98.0</td>\n",
              "      <td>63.0</td>\n",
              "    </tr>\n",
              "    <tr>\n",
              "      <th>2</th>\n",
              "      <td>265000</td>\n",
              "      <td>303 - 515 4 AVE NE</td>\n",
              "      <td>2.0</td>\n",
              "      <td>2.0</td>\n",
              "      <td>NaN</td>\n",
              "      <td>601.0</td>\n",
              "      <td>condo</td>\n",
              "      <td>51.055663</td>\n",
              "      <td>-114.051665</td>\n",
              "      <td>1999.0</td>\n",
              "      <td>21.0</td>\n",
              "      <td>1.96207</td>\n",
              "      <td>1145.89</td>\n",
              "      <td>NaN</td>\n",
              "      <td>0.0</td>\n",
              "      <td>0.0</td>\n",
              "      <td>T2E 0J9</td>\n",
              "      <td>69.0</td>\n",
              "      <td>98.0</td>\n",
              "      <td>63.0</td>\n",
              "    </tr>\n",
              "    <tr>\n",
              "      <th>3</th>\n",
              "      <td>265000</td>\n",
              "      <td>303 - 515 4 AVE NE</td>\n",
              "      <td>2.0</td>\n",
              "      <td>2.0</td>\n",
              "      <td>NaN</td>\n",
              "      <td>601.0</td>\n",
              "      <td>condo</td>\n",
              "      <td>51.055663</td>\n",
              "      <td>-114.051665</td>\n",
              "      <td>2005.0</td>\n",
              "      <td>15.0</td>\n",
              "      <td>1.96207</td>\n",
              "      <td>NaN</td>\n",
              "      <td>NaN</td>\n",
              "      <td>0.0</td>\n",
              "      <td>0.0</td>\n",
              "      <td>T2E 0J9</td>\n",
              "      <td>69.0</td>\n",
              "      <td>98.0</td>\n",
              "      <td>63.0</td>\n",
              "    </tr>\n",
              "    <tr>\n",
              "      <th>4</th>\n",
              "      <td>265000</td>\n",
              "      <td>303 - 515 4 AVE NE</td>\n",
              "      <td>2.0</td>\n",
              "      <td>2.0</td>\n",
              "      <td>NaN</td>\n",
              "      <td>601.0</td>\n",
              "      <td>condo</td>\n",
              "      <td>51.055663</td>\n",
              "      <td>-114.051665</td>\n",
              "      <td>NaN</td>\n",
              "      <td>NaN</td>\n",
              "      <td>1.96207</td>\n",
              "      <td>NaN</td>\n",
              "      <td>NaN</td>\n",
              "      <td>0.0</td>\n",
              "      <td>0.0</td>\n",
              "      <td>T2E 0J9</td>\n",
              "      <td>69.0</td>\n",
              "      <td>98.0</td>\n",
              "      <td>63.0</td>\n",
              "    </tr>\n",
              "  </tbody>\n",
              "</table>\n",
              "</div>"
            ],
            "text/plain": [
              "    price             address  bed  ...  walk_score  bike_score  transit_score\n",
              "0  265000  303 - 515 4 AVE NE  2.0  ...        69.0        98.0           63.0\n",
              "1  265000  303 - 515 4 AVE NE  2.0  ...        69.0        98.0           63.0\n",
              "2  265000  303 - 515 4 AVE NE  2.0  ...        69.0        98.0           63.0\n",
              "3  265000  303 - 515 4 AVE NE  2.0  ...        69.0        98.0           63.0\n",
              "4  265000  303 - 515 4 AVE NE  2.0  ...        69.0        98.0           63.0\n",
              "\n",
              "[5 rows x 20 columns]"
            ]
          },
          "metadata": {
            "tags": []
          },
          "execution_count": 54
        }
      ]
    },
    {
      "cell_type": "markdown",
      "metadata": {
        "id": "CbH0fYscxE-4"
      },
      "source": [
        "## **Analyzing Data**"
      ]
    },
    {
      "cell_type": "code",
      "metadata": {
        "id": "JCW2P4aOcT0t",
        "outputId": "336bdb05-edb5-40ef-bd00-783ee124e69c",
        "colab": {
          "base_uri": "https://localhost:8080/"
        }
      },
      "source": [
        "house_info = house_info[house_info[\"price\"] < 1500000]\n",
        "len(house_info)"
      ],
      "execution_count": 55,
      "outputs": [
        {
          "output_type": "execute_result",
          "data": {
            "text/plain": [
              "3481"
            ]
          },
          "metadata": {
            "tags": []
          },
          "execution_count": 55
        }
      ]
    },
    {
      "cell_type": "code",
      "metadata": {
        "id": "zUl3yanQxdnQ",
        "outputId": "73b06f4c-bff6-4cdf-9f8f-17fa542dd2bc",
        "colab": {
          "base_uri": "https://localhost:8080/",
          "height": 405
        }
      },
      "source": [
        "sns.set_style('white')\n",
        "plt.figure(figsize=(10, 6))\n",
        "sns.countplot(x=\"bed\", data=house_info)"
      ],
      "execution_count": 56,
      "outputs": [
        {
          "output_type": "execute_result",
          "data": {
            "text/plain": [
              "<matplotlib.axes._subplots.AxesSubplot at 0x7f9693b50a58>"
            ]
          },
          "metadata": {
            "tags": []
          },
          "execution_count": 56
        },
        {
          "output_type": "display_data",
          "data": {
            "image/png": "[encoded data removed]",
            "text/plain": [
              "<Figure size 720x432 with 1 Axes>"
            ]
          },
          "metadata": {
            "tags": []
          }
        }
      ]
    },
    {
      "cell_type": "code",
      "metadata": {
        "id": "RFSaZKkvxnLA",
        "outputId": "ef03b7c4-15da-45b4-a3b9-abe034abc24a",
        "colab": {
          "base_uri": "https://localhost:8080/",
          "height": 405
        }
      },
      "source": [
        "plt.figure(figsize=(20, 6))\n",
        "sns.histplot(data=house_info, x=\"price\", hue=\"property_type\")"
      ],
      "execution_count": 57,
      "outputs": [
        {
          "output_type": "execute_result",
          "data": {
            "text/plain": [
              "<matplotlib.axes._subplots.AxesSubplot at 0x7f9687b07a58>"
            ]
          },
          "metadata": {
            "tags": []
          },
          "execution_count": 57
        },
        {
          "output_type": "display_data",
          "data": {
            "image/png": "[encoded data removed]",
            "text/plain": [
              "<Figure size 1440x432 with 1 Axes>"
            ]
          },
          "metadata": {
            "tags": []
          }
        }
      ]
    },
    {
      "cell_type": "markdown",
      "metadata": {
        "id": "YcCNONf0xxo7"
      },
      "source": [
        "# **Data Wrangling**"
      ]
    },
    {
      "cell_type": "code",
      "metadata": {
        "id": "UCxeX9hYx0wa",
        "outputId": "f2e6140e-d600-484b-9c4d-2920ca996319",
        "colab": {
          "base_uri": "https://localhost:8080/"
        }
      },
      "source": [
        "house_info.isnull().sum()"
      ],
      "execution_count": 58,
      "outputs": [
        {
          "output_type": "execute_result",
          "data": {
            "text/plain": [
              "price                   0\n",
              "address                 0\n",
              "bed                    12\n",
              "full_bath              12\n",
              "half_bath            2356\n",
              "property_area           6\n",
              "property_type          36\n",
              "latitude                0\n",
              "longitude               0\n",
              "year_built            465\n",
              "years_old             465\n",
              "distance_downtown       0\n",
              "monthly_payments      130\n",
              "lot_size             2225\n",
              "basement                0\n",
              "garage                  0\n",
              "postal_code             0\n",
              "walk_score             16\n",
              "bike_score             16\n",
              "transit_score          58\n",
              "dtype: int64"
            ]
          },
          "metadata": {
            "tags": []
          },
          "execution_count": 58
        }
      ]
    },
    {
      "cell_type": "code",
      "metadata": {
        "id": "o6PE2vP3zZa5",
        "outputId": "be0f5c11-a088-48cc-9ca9-4c4b8cc814c5",
        "colab": {
          "base_uri": "https://localhost:8080/",
          "height": 701
        }
      },
      "source": [
        "sns.set_style('white')\n",
        "plt.figure(figsize=(15, 10))\n",
        "sns.heatmap(data=house_info.isnull(), yticklabels=False)"
      ],
      "execution_count": 59,
      "outputs": [
        {
          "output_type": "execute_result",
          "data": {
            "text/plain": [
              "<matplotlib.axes._subplots.AxesSubplot at 0x7f968a3046a0>"
            ]
          },
          "metadata": {
            "tags": []
          },
          "execution_count": 59
        },
        {
          "output_type": "display_data",
          "data": {
            "image/png": "[encoded data removed]",
            "text/plain": [
              "<Figure size 1080x720 with 2 Axes>"
            ]
          },
          "metadata": {
            "tags": []
          }
        }
      ]
    },
    {
      "cell_type": "code",
      "metadata": {
        "id": "BaIIR4YnzcWQ"
      },
      "source": [
        "# Replace nan values with average years_old and 0\n",
        "\n",
        "# house_info['years_old']=house_info['years_old'].replace(np.nan,house_info['years_old'].mean())\n",
        "house_info['half_bath']=house_info['half_bath'].replace(np.nan,0)\n",
        "house_info['lot_size']=house_info['lot_size'].replace(np.nan,0)\n",
        "house_info['walk_score']=house_info['walk_score'].replace(np.nan,0)\n",
        "house_info['bike_score']=house_info['bike_score'].replace(np.nan,0)\n",
        "house_info['transit_score']=house_info['transit_score'].replace(np.nan,0)\n",
        "house_info['lot_size']=house_info['lot_size'].replace(np.nan,0)\n",
        "house_info = house_info.dropna(subset=['bed', 'full_bath', 'property_area', 'property_type', 'years_old'])"
      ],
      "execution_count": 60,
      "outputs": []
    },
    {
      "cell_type": "code",
      "metadata": {
        "id": "6cBXxEE6zzCr",
        "outputId": "35d19248-d46f-4d68-8913-aa9ea2b8f37c",
        "colab": {
          "base_uri": "https://localhost:8080/"
        }
      },
      "source": [
        "house_info.isnull().sum()"
      ],
      "execution_count": 61,
      "outputs": [
        {
          "output_type": "execute_result",
          "data": {
            "text/plain": [
              "price                  0\n",
              "address                0\n",
              "bed                    0\n",
              "full_bath              0\n",
              "half_bath              0\n",
              "property_area          0\n",
              "property_type          0\n",
              "latitude               0\n",
              "longitude              0\n",
              "year_built             0\n",
              "years_old              0\n",
              "distance_downtown      0\n",
              "monthly_payments     115\n",
              "lot_size               0\n",
              "basement               0\n",
              "garage                 0\n",
              "postal_code            0\n",
              "walk_score             0\n",
              "bike_score             0\n",
              "transit_score          0\n",
              "dtype: int64"
            ]
          },
          "metadata": {
            "tags": []
          },
          "execution_count": 61
        }
      ]
    },
    {
      "cell_type": "code",
      "metadata": {
        "id": "aUjoIhlPz2Gm",
        "outputId": "548fb12a-49e5-4912-86d4-99a5c8e265e1",
        "colab": {
          "base_uri": "https://localhost:8080/",
          "height": 484
        }
      },
      "source": [
        "sns.set_style('white')\n",
        "plt.figure(figsize=(15, 6))\n",
        "sns.heatmap(data=house_info.isnull(), yticklabels=False)"
      ],
      "execution_count": 62,
      "outputs": [
        {
          "output_type": "execute_result",
          "data": {
            "text/plain": [
              "<matplotlib.axes._subplots.AxesSubplot at 0x7f96875f1940>"
            ]
          },
          "metadata": {
            "tags": []
          },
          "execution_count": 62
        },
        {
          "output_type": "display_data",
          "data": {
            "image/png": "[encoded data removed]",
            "text/plain": [
              "<Figure size 1080x432 with 2 Axes>"
            ]
          },
          "metadata": {
            "tags": []
          }
        }
      ]
    },
    {
      "cell_type": "code",
      "metadata": {
        "id": "8nIlm88oz-LL",
        "outputId": "9a1f8ae1-23ed-45d9-c9f6-bada128ca001",
        "colab": {
          "base_uri": "https://localhost:8080/",
          "height": 394
        }
      },
      "source": [
        "house_info.head()"
      ],
      "execution_count": 63,
      "outputs": [
        {
          "output_type": "execute_result",
          "data": {
            "text/html": [
              "<div>\n",
              "<style scoped>\n",
              "    .dataframe tbody tr th:only-of-type {\n",
              "        vertical-align: middle;\n",
              "    }\n",
              "\n",
              "    .dataframe tbody tr th {\n",
              "        vertical-align: top;\n",
              "    }\n",
              "\n",
              "    .dataframe thead th {\n",
              "        text-align: right;\n",
              "    }\n",
              "</style>\n",
              "<table border=\"1\" class=\"dataframe\">\n",
              "  <thead>\n",
              "    <tr style=\"text-align: right;\">\n",
              "      <th></th>\n",
              "      <th>price</th>\n",
              "      <th>address</th>\n",
              "      <th>bed</th>\n",
              "      <th>full_bath</th>\n",
              "      <th>half_bath</th>\n",
              "      <th>property_area</th>\n",
              "      <th>property_type</th>\n",
              "      <th>latitude</th>\n",
              "      <th>longitude</th>\n",
              "      <th>year_built</th>\n",
              "      <th>years_old</th>\n",
              "      <th>distance_downtown</th>\n",
              "      <th>monthly_payments</th>\n",
              "      <th>lot_size</th>\n",
              "      <th>basement</th>\n",
              "      <th>garage</th>\n",
              "      <th>postal_code</th>\n",
              "      <th>walk_score</th>\n",
              "      <th>bike_score</th>\n",
              "      <th>transit_score</th>\n",
              "    </tr>\n",
              "  </thead>\n",
              "  <tbody>\n",
              "    <tr>\n",
              "      <th>0</th>\n",
              "      <td>265000</td>\n",
              "      <td>303 - 515 4 AVE NE</td>\n",
              "      <td>2.0</td>\n",
              "      <td>2.0</td>\n",
              "      <td>0.0</td>\n",
              "      <td>601.0</td>\n",
              "      <td>condo</td>\n",
              "      <td>51.055663</td>\n",
              "      <td>-114.051665</td>\n",
              "      <td>2016.0</td>\n",
              "      <td>4.0</td>\n",
              "      <td>1.96207</td>\n",
              "      <td>1145.89</td>\n",
              "      <td>0</td>\n",
              "      <td>0.0</td>\n",
              "      <td>0.0</td>\n",
              "      <td>T2E 0J9</td>\n",
              "      <td>69.0</td>\n",
              "      <td>98.0</td>\n",
              "      <td>63.0</td>\n",
              "    </tr>\n",
              "    <tr>\n",
              "      <th>1</th>\n",
              "      <td>265000</td>\n",
              "      <td>303 - 515 4 AVE NE</td>\n",
              "      <td>2.0</td>\n",
              "      <td>2.0</td>\n",
              "      <td>0.0</td>\n",
              "      <td>601.0</td>\n",
              "      <td>condo</td>\n",
              "      <td>51.055663</td>\n",
              "      <td>-114.051665</td>\n",
              "      <td>1995.0</td>\n",
              "      <td>25.0</td>\n",
              "      <td>1.96207</td>\n",
              "      <td>1145.89</td>\n",
              "      <td>0</td>\n",
              "      <td>0.0</td>\n",
              "      <td>0.0</td>\n",
              "      <td>T2E 0J9</td>\n",
              "      <td>69.0</td>\n",
              "      <td>98.0</td>\n",
              "      <td>63.0</td>\n",
              "    </tr>\n",
              "    <tr>\n",
              "      <th>2</th>\n",
              "      <td>265000</td>\n",
              "      <td>303 - 515 4 AVE NE</td>\n",
              "      <td>2.0</td>\n",
              "      <td>2.0</td>\n",
              "      <td>0.0</td>\n",
              "      <td>601.0</td>\n",
              "      <td>condo</td>\n",
              "      <td>51.055663</td>\n",
              "      <td>-114.051665</td>\n",
              "      <td>1999.0</td>\n",
              "      <td>21.0</td>\n",
              "      <td>1.96207</td>\n",
              "      <td>1145.89</td>\n",
              "      <td>0</td>\n",
              "      <td>0.0</td>\n",
              "      <td>0.0</td>\n",
              "      <td>T2E 0J9</td>\n",
              "      <td>69.0</td>\n",
              "      <td>98.0</td>\n",
              "      <td>63.0</td>\n",
              "    </tr>\n",
              "    <tr>\n",
              "      <th>3</th>\n",
              "      <td>265000</td>\n",
              "      <td>303 - 515 4 AVE NE</td>\n",
              "      <td>2.0</td>\n",
              "      <td>2.0</td>\n",
              "      <td>0.0</td>\n",
              "      <td>601.0</td>\n",
              "      <td>condo</td>\n",
              "      <td>51.055663</td>\n",
              "      <td>-114.051665</td>\n",
              "      <td>2005.0</td>\n",
              "      <td>15.0</td>\n",
              "      <td>1.96207</td>\n",
              "      <td>NaN</td>\n",
              "      <td>0</td>\n",
              "      <td>0.0</td>\n",
              "      <td>0.0</td>\n",
              "      <td>T2E 0J9</td>\n",
              "      <td>69.0</td>\n",
              "      <td>98.0</td>\n",
              "      <td>63.0</td>\n",
              "    </tr>\n",
              "    <tr>\n",
              "      <th>5</th>\n",
              "      <td>265000</td>\n",
              "      <td>303 - 515 4 AVE NE</td>\n",
              "      <td>2.0</td>\n",
              "      <td>2.0</td>\n",
              "      <td>0.0</td>\n",
              "      <td>601.0</td>\n",
              "      <td>condo</td>\n",
              "      <td>51.055663</td>\n",
              "      <td>-114.051665</td>\n",
              "      <td>1979.0</td>\n",
              "      <td>41.0</td>\n",
              "      <td>1.96207</td>\n",
              "      <td>NaN</td>\n",
              "      <td>0</td>\n",
              "      <td>0.0</td>\n",
              "      <td>0.0</td>\n",
              "      <td>T2E 0J9</td>\n",
              "      <td>69.0</td>\n",
              "      <td>98.0</td>\n",
              "      <td>63.0</td>\n",
              "    </tr>\n",
              "  </tbody>\n",
              "</table>\n",
              "</div>"
            ],
            "text/plain": [
              "    price             address  bed  ...  walk_score  bike_score  transit_score\n",
              "0  265000  303 - 515 4 AVE NE  2.0  ...        69.0        98.0           63.0\n",
              "1  265000  303 - 515 4 AVE NE  2.0  ...        69.0        98.0           63.0\n",
              "2  265000  303 - 515 4 AVE NE  2.0  ...        69.0        98.0           63.0\n",
              "3  265000  303 - 515 4 AVE NE  2.0  ...        69.0        98.0           63.0\n",
              "5  265000  303 - 515 4 AVE NE  2.0  ...        69.0        98.0           63.0\n",
              "\n",
              "[5 rows x 20 columns]"
            ]
          },
          "metadata": {
            "tags": []
          },
          "execution_count": 63
        }
      ]
    },
    {
      "cell_type": "markdown",
      "metadata": {
        "id": "-tHxFogl0MJh"
      },
      "source": [
        "# **One-hot encoding**"
      ]
    },
    {
      "cell_type": "code",
      "metadata": {
        "id": "dCkRAc1Z0T2a",
        "outputId": "4c9b64a2-8b9f-4a6d-c8f9-7a78752d780f",
        "colab": {
          "base_uri": "https://localhost:8080/",
          "height": 204
        }
      },
      "source": [
        "prop_area = pd.get_dummies(house_info[\"property_type\"])\n",
        "prop_area.head()"
      ],
      "execution_count": 64,
      "outputs": [
        {
          "output_type": "execute_result",
          "data": {
            "text/html": [
              "<div>\n",
              "<style scoped>\n",
              "    .dataframe tbody tr th:only-of-type {\n",
              "        vertical-align: middle;\n",
              "    }\n",
              "\n",
              "    .dataframe tbody tr th {\n",
              "        vertical-align: top;\n",
              "    }\n",
              "\n",
              "    .dataframe thead th {\n",
              "        text-align: right;\n",
              "    }\n",
              "</style>\n",
              "<table border=\"1\" class=\"dataframe\">\n",
              "  <thead>\n",
              "    <tr style=\"text-align: right;\">\n",
              "      <th></th>\n",
              "      <th>condo</th>\n",
              "      <th>house</th>\n",
              "      <th>townhouse</th>\n",
              "    </tr>\n",
              "  </thead>\n",
              "  <tbody>\n",
              "    <tr>\n",
              "      <th>0</th>\n",
              "      <td>1</td>\n",
              "      <td>0</td>\n",
              "      <td>0</td>\n",
              "    </tr>\n",
              "    <tr>\n",
              "      <th>1</th>\n",
              "      <td>1</td>\n",
              "      <td>0</td>\n",
              "      <td>0</td>\n",
              "    </tr>\n",
              "    <tr>\n",
              "      <th>2</th>\n",
              "      <td>1</td>\n",
              "      <td>0</td>\n",
              "      <td>0</td>\n",
              "    </tr>\n",
              "    <tr>\n",
              "      <th>3</th>\n",
              "      <td>1</td>\n",
              "      <td>0</td>\n",
              "      <td>0</td>\n",
              "    </tr>\n",
              "    <tr>\n",
              "      <th>5</th>\n",
              "      <td>1</td>\n",
              "      <td>0</td>\n",
              "      <td>0</td>\n",
              "    </tr>\n",
              "  </tbody>\n",
              "</table>\n",
              "</div>"
            ],
            "text/plain": [
              "   condo  house  townhouse\n",
              "0      1      0          0\n",
              "1      1      0          0\n",
              "2      1      0          0\n",
              "3      1      0          0\n",
              "5      1      0          0"
            ]
          },
          "metadata": {
            "tags": []
          },
          "execution_count": 64
        }
      ]
    },
    {
      "cell_type": "markdown",
      "metadata": {
        "id": "yoL5ftFU0hJD"
      },
      "source": [
        "## **Merge tables**"
      ]
    },
    {
      "cell_type": "code",
      "metadata": {
        "id": "E-4b_BrM0lD7",
        "outputId": "73718f79-cd4f-4bc0-8262-6a87c1e2e16f",
        "colab": {
          "base_uri": "https://localhost:8080/",
          "height": 394
        }
      },
      "source": [
        "table_df = pd.concat([house_info, prop_area], axis=1)\n",
        "table_df.head()"
      ],
      "execution_count": 65,
      "outputs": [
        {
          "output_type": "execute_result",
          "data": {
            "text/html": [
              "<div>\n",
              "<style scoped>\n",
              "    .dataframe tbody tr th:only-of-type {\n",
              "        vertical-align: middle;\n",
              "    }\n",
              "\n",
              "    .dataframe tbody tr th {\n",
              "        vertical-align: top;\n",
              "    }\n",
              "\n",
              "    .dataframe thead th {\n",
              "        text-align: right;\n",
              "    }\n",
              "</style>\n",
              "<table border=\"1\" class=\"dataframe\">\n",
              "  <thead>\n",
              "    <tr style=\"text-align: right;\">\n",
              "      <th></th>\n",
              "      <th>price</th>\n",
              "      <th>address</th>\n",
              "      <th>bed</th>\n",
              "      <th>full_bath</th>\n",
              "      <th>half_bath</th>\n",
              "      <th>property_area</th>\n",
              "      <th>property_type</th>\n",
              "      <th>latitude</th>\n",
              "      <th>longitude</th>\n",
              "      <th>year_built</th>\n",
              "      <th>years_old</th>\n",
              "      <th>distance_downtown</th>\n",
              "      <th>monthly_payments</th>\n",
              "      <th>lot_size</th>\n",
              "      <th>basement</th>\n",
              "      <th>garage</th>\n",
              "      <th>postal_code</th>\n",
              "      <th>walk_score</th>\n",
              "      <th>bike_score</th>\n",
              "      <th>transit_score</th>\n",
              "      <th>condo</th>\n",
              "      <th>house</th>\n",
              "      <th>townhouse</th>\n",
              "    </tr>\n",
              "  </thead>\n",
              "  <tbody>\n",
              "    <tr>\n",
              "      <th>0</th>\n",
              "      <td>265000</td>\n",
              "      <td>303 - 515 4 AVE NE</td>\n",
              "      <td>2.0</td>\n",
              "      <td>2.0</td>\n",
              "      <td>0.0</td>\n",
              "      <td>601.0</td>\n",
              "      <td>condo</td>\n",
              "      <td>51.055663</td>\n",
              "      <td>-114.051665</td>\n",
              "      <td>2016.0</td>\n",
              "      <td>4.0</td>\n",
              "      <td>1.96207</td>\n",
              "      <td>1145.89</td>\n",
              "      <td>0</td>\n",
              "      <td>0.0</td>\n",
              "      <td>0.0</td>\n",
              "      <td>T2E 0J9</td>\n",
              "      <td>69.0</td>\n",
              "      <td>98.0</td>\n",
              "      <td>63.0</td>\n",
              "      <td>1</td>\n",
              "      <td>0</td>\n",
              "      <td>0</td>\n",
              "    </tr>\n",
              "    <tr>\n",
              "      <th>1</th>\n",
              "      <td>265000</td>\n",
              "      <td>303 - 515 4 AVE NE</td>\n",
              "      <td>2.0</td>\n",
              "      <td>2.0</td>\n",
              "      <td>0.0</td>\n",
              "      <td>601.0</td>\n",
              "      <td>condo</td>\n",
              "      <td>51.055663</td>\n",
              "      <td>-114.051665</td>\n",
              "      <td>1995.0</td>\n",
              "      <td>25.0</td>\n",
              "      <td>1.96207</td>\n",
              "      <td>1145.89</td>\n",
              "      <td>0</td>\n",
              "      <td>0.0</td>\n",
              "      <td>0.0</td>\n",
              "      <td>T2E 0J9</td>\n",
              "      <td>69.0</td>\n",
              "      <td>98.0</td>\n",
              "      <td>63.0</td>\n",
              "      <td>1</td>\n",
              "      <td>0</td>\n",
              "      <td>0</td>\n",
              "    </tr>\n",
              "    <tr>\n",
              "      <th>2</th>\n",
              "      <td>265000</td>\n",
              "      <td>303 - 515 4 AVE NE</td>\n",
              "      <td>2.0</td>\n",
              "      <td>2.0</td>\n",
              "      <td>0.0</td>\n",
              "      <td>601.0</td>\n",
              "      <td>condo</td>\n",
              "      <td>51.055663</td>\n",
              "      <td>-114.051665</td>\n",
              "      <td>1999.0</td>\n",
              "      <td>21.0</td>\n",
              "      <td>1.96207</td>\n",
              "      <td>1145.89</td>\n",
              "      <td>0</td>\n",
              "      <td>0.0</td>\n",
              "      <td>0.0</td>\n",
              "      <td>T2E 0J9</td>\n",
              "      <td>69.0</td>\n",
              "      <td>98.0</td>\n",
              "      <td>63.0</td>\n",
              "      <td>1</td>\n",
              "      <td>0</td>\n",
              "      <td>0</td>\n",
              "    </tr>\n",
              "    <tr>\n",
              "      <th>3</th>\n",
              "      <td>265000</td>\n",
              "      <td>303 - 515 4 AVE NE</td>\n",
              "      <td>2.0</td>\n",
              "      <td>2.0</td>\n",
              "      <td>0.0</td>\n",
              "      <td>601.0</td>\n",
              "      <td>condo</td>\n",
              "      <td>51.055663</td>\n",
              "      <td>-114.051665</td>\n",
              "      <td>2005.0</td>\n",
              "      <td>15.0</td>\n",
              "      <td>1.96207</td>\n",
              "      <td>NaN</td>\n",
              "      <td>0</td>\n",
              "      <td>0.0</td>\n",
              "      <td>0.0</td>\n",
              "      <td>T2E 0J9</td>\n",
              "      <td>69.0</td>\n",
              "      <td>98.0</td>\n",
              "      <td>63.0</td>\n",
              "      <td>1</td>\n",
              "      <td>0</td>\n",
              "      <td>0</td>\n",
              "    </tr>\n",
              "    <tr>\n",
              "      <th>5</th>\n",
              "      <td>265000</td>\n",
              "      <td>303 - 515 4 AVE NE</td>\n",
              "      <td>2.0</td>\n",
              "      <td>2.0</td>\n",
              "      <td>0.0</td>\n",
              "      <td>601.0</td>\n",
              "      <td>condo</td>\n",
              "      <td>51.055663</td>\n",
              "      <td>-114.051665</td>\n",
              "      <td>1979.0</td>\n",
              "      <td>41.0</td>\n",
              "      <td>1.96207</td>\n",
              "      <td>NaN</td>\n",
              "      <td>0</td>\n",
              "      <td>0.0</td>\n",
              "      <td>0.0</td>\n",
              "      <td>T2E 0J9</td>\n",
              "      <td>69.0</td>\n",
              "      <td>98.0</td>\n",
              "      <td>63.0</td>\n",
              "      <td>1</td>\n",
              "      <td>0</td>\n",
              "      <td>0</td>\n",
              "    </tr>\n",
              "  </tbody>\n",
              "</table>\n",
              "</div>"
            ],
            "text/plain": [
              "    price             address  bed  ...  condo  house  townhouse\n",
              "0  265000  303 - 515 4 AVE NE  2.0  ...      1      0          0\n",
              "1  265000  303 - 515 4 AVE NE  2.0  ...      1      0          0\n",
              "2  265000  303 - 515 4 AVE NE  2.0  ...      1      0          0\n",
              "3  265000  303 - 515 4 AVE NE  2.0  ...      1      0          0\n",
              "5  265000  303 - 515 4 AVE NE  2.0  ...      1      0          0\n",
              "\n",
              "[5 rows x 23 columns]"
            ]
          },
          "metadata": {
            "tags": []
          },
          "execution_count": 65
        }
      ]
    },
    {
      "cell_type": "code",
      "metadata": {
        "id": "EJ_iQAP_0rNA",
        "outputId": "e140efbf-33d0-4a7e-8774-f62fa7cb461c",
        "colab": {
          "base_uri": "https://localhost:8080/",
          "height": 204
        }
      },
      "source": [
        "df = table_df[['price', 'bed', 'full_bath', 'half_bath', 'property_area', 'condo',\n",
        "                 'house', 'townhouse', 'years_old', 'distance_downtown', 'walk_score', 'bike_score', 'transit_score', 'lot_size', 'basement', 'garage']]\n",
        "df.head()"
      ],
      "execution_count": 66,
      "outputs": [
        {
          "output_type": "execute_result",
          "data": {
            "text/html": [
              "<div>\n",
              "<style scoped>\n",
              "    .dataframe tbody tr th:only-of-type {\n",
              "        vertical-align: middle;\n",
              "    }\n",
              "\n",
              "    .dataframe tbody tr th {\n",
              "        vertical-align: top;\n",
              "    }\n",
              "\n",
              "    .dataframe thead th {\n",
              "        text-align: right;\n",
              "    }\n",
              "</style>\n",
              "<table border=\"1\" class=\"dataframe\">\n",
              "  <thead>\n",
              "    <tr style=\"text-align: right;\">\n",
              "      <th></th>\n",
              "      <th>price</th>\n",
              "      <th>bed</th>\n",
              "      <th>full_bath</th>\n",
              "      <th>half_bath</th>\n",
              "      <th>property_area</th>\n",
              "      <th>condo</th>\n",
              "      <th>house</th>\n",
              "      <th>townhouse</th>\n",
              "      <th>years_old</th>\n",
              "      <th>distance_downtown</th>\n",
              "      <th>walk_score</th>\n",
              "      <th>bike_score</th>\n",
              "      <th>transit_score</th>\n",
              "      <th>lot_size</th>\n",
              "      <th>basement</th>\n",
              "      <th>garage</th>\n",
              "    </tr>\n",
              "  </thead>\n",
              "  <tbody>\n",
              "    <tr>\n",
              "      <th>0</th>\n",
              "      <td>265000</td>\n",
              "      <td>2.0</td>\n",
              "      <td>2.0</td>\n",
              "      <td>0.0</td>\n",
              "      <td>601.0</td>\n",
              "      <td>1</td>\n",
              "      <td>0</td>\n",
              "      <td>0</td>\n",
              "      <td>4.0</td>\n",
              "      <td>1.96207</td>\n",
              "      <td>69.0</td>\n",
              "      <td>98.0</td>\n",
              "      <td>63.0</td>\n",
              "      <td>0</td>\n",
              "      <td>0.0</td>\n",
              "      <td>0.0</td>\n",
              "    </tr>\n",
              "    <tr>\n",
              "      <th>1</th>\n",
              "      <td>265000</td>\n",
              "      <td>2.0</td>\n",
              "      <td>2.0</td>\n",
              "      <td>0.0</td>\n",
              "      <td>601.0</td>\n",
              "      <td>1</td>\n",
              "      <td>0</td>\n",
              "      <td>0</td>\n",
              "      <td>25.0</td>\n",
              "      <td>1.96207</td>\n",
              "      <td>69.0</td>\n",
              "      <td>98.0</td>\n",
              "      <td>63.0</td>\n",
              "      <td>0</td>\n",
              "      <td>0.0</td>\n",
              "      <td>0.0</td>\n",
              "    </tr>\n",
              "    <tr>\n",
              "      <th>2</th>\n",
              "      <td>265000</td>\n",
              "      <td>2.0</td>\n",
              "      <td>2.0</td>\n",
              "      <td>0.0</td>\n",
              "      <td>601.0</td>\n",
              "      <td>1</td>\n",
              "      <td>0</td>\n",
              "      <td>0</td>\n",
              "      <td>21.0</td>\n",
              "      <td>1.96207</td>\n",
              "      <td>69.0</td>\n",
              "      <td>98.0</td>\n",
              "      <td>63.0</td>\n",
              "      <td>0</td>\n",
              "      <td>0.0</td>\n",
              "      <td>0.0</td>\n",
              "    </tr>\n",
              "    <tr>\n",
              "      <th>3</th>\n",
              "      <td>265000</td>\n",
              "      <td>2.0</td>\n",
              "      <td>2.0</td>\n",
              "      <td>0.0</td>\n",
              "      <td>601.0</td>\n",
              "      <td>1</td>\n",
              "      <td>0</td>\n",
              "      <td>0</td>\n",
              "      <td>15.0</td>\n",
              "      <td>1.96207</td>\n",
              "      <td>69.0</td>\n",
              "      <td>98.0</td>\n",
              "      <td>63.0</td>\n",
              "      <td>0</td>\n",
              "      <td>0.0</td>\n",
              "      <td>0.0</td>\n",
              "    </tr>\n",
              "    <tr>\n",
              "      <th>5</th>\n",
              "      <td>265000</td>\n",
              "      <td>2.0</td>\n",
              "      <td>2.0</td>\n",
              "      <td>0.0</td>\n",
              "      <td>601.0</td>\n",
              "      <td>1</td>\n",
              "      <td>0</td>\n",
              "      <td>0</td>\n",
              "      <td>41.0</td>\n",
              "      <td>1.96207</td>\n",
              "      <td>69.0</td>\n",
              "      <td>98.0</td>\n",
              "      <td>63.0</td>\n",
              "      <td>0</td>\n",
              "      <td>0.0</td>\n",
              "      <td>0.0</td>\n",
              "    </tr>\n",
              "  </tbody>\n",
              "</table>\n",
              "</div>"
            ],
            "text/plain": [
              "    price  bed  full_bath  half_bath  ...  transit_score  lot_size  basement  garage\n",
              "0  265000  2.0        2.0        0.0  ...           63.0         0       0.0     0.0\n",
              "1  265000  2.0        2.0        0.0  ...           63.0         0       0.0     0.0\n",
              "2  265000  2.0        2.0        0.0  ...           63.0         0       0.0     0.0\n",
              "3  265000  2.0        2.0        0.0  ...           63.0         0       0.0     0.0\n",
              "5  265000  2.0        2.0        0.0  ...           63.0         0       0.0     0.0\n",
              "\n",
              "[5 rows x 16 columns]"
            ]
          },
          "metadata": {
            "tags": []
          },
          "execution_count": 66
        }
      ]
    },
    {
      "cell_type": "code",
      "metadata": {
        "id": "MKEAPHqapkW7"
      },
      "source": [
        "df.drop(df.loc[df['lot_size']== 'naOc'].index, inplace=True)\n",
        "df.drop(df.loc[df['lot_size']== '0Occ'].index, inplace=True)\n",
        "df.drop(df.loc[df['lot_size']== '1 - '].index, inplace=True)\n",
        "df.drop(df.loc[df['lot_size']== '979O'].index, inplace=True)\n",
        "df.drop(df.loc[df['lot_size']== '775O'].index, inplace=True)\n",
        "df.drop(df.loc[df['lot_size']== '85Oc'].index, inplace=True)\n",
        "df.drop(df.loc[df['lot_size']== '282O'].index, inplace=True)\n",
        "df.drop(df.loc[df['lot_size']== '600O'].index, inplace=True)\n",
        "df.drop(df.loc[df['lot_size']== '806O'].index, inplace=True)\n",
        "df.drop(df.loc[df['lot_size']== '436O'].index, inplace=True)\n",
        "df.drop(df.loc[df['lot_size']== '319O'].index, inplace=True)\n",
        "df.drop(df.loc[df['lot_size']== '493O'].index, inplace=True)\n",
        "# df.drop(df.loc[df['lot_size']== 'naOc'].index, inplace=True)\n",
        "# df.drop(df.loc[df['lot_size']== 'naOc'].index, inplace=True)"
      ],
      "execution_count": 98,
      "outputs": []
    },
    {
      "cell_type": "code",
      "metadata": {
        "id": "T_KT8xrkqoDD"
      },
      "source": [
        "df['lot_size'] = pd.to_numeric(df['lot_size'])"
      ],
      "execution_count": 99,
      "outputs": []
    },
    {
      "cell_type": "code",
      "metadata": {
        "id": "oPcTUgTkytom",
        "outputId": "ffd8fe0b-0335-4ec6-f380-f699c92aada7",
        "colab": {
          "base_uri": "https://localhost:8080/"
        }
      },
      "source": [
        "df.dtypes"
      ],
      "execution_count": 100,
      "outputs": [
        {
          "output_type": "execute_result",
          "data": {
            "text/plain": [
              "price                  int64\n",
              "bed                  float64\n",
              "full_bath            float64\n",
              "half_bath            float64\n",
              "property_area        float64\n",
              "condo                  uint8\n",
              "house                  uint8\n",
              "townhouse              uint8\n",
              "years_old            float64\n",
              "distance_downtown    float64\n",
              "walk_score           float64\n",
              "bike_score           float64\n",
              "transit_score        float64\n",
              "lot_size             float64\n",
              "basement             float64\n",
              "garage               float64\n",
              "dtype: object"
            ]
          },
          "metadata": {
            "tags": []
          },
          "execution_count": 100
        }
      ]
    },
    {
      "cell_type": "code",
      "metadata": {
        "id": "3763m8puuEtP",
        "outputId": "6ed94b01-b21a-4887-b6f1-ce4c362731b2",
        "colab": {
          "base_uri": "https://localhost:8080/"
        }
      },
      "source": [
        "len(df)"
      ],
      "execution_count": 102,
      "outputs": [
        {
          "output_type": "execute_result",
          "data": {
            "text/plain": [
              "2592"
            ]
          },
          "metadata": {
            "tags": []
          },
          "execution_count": 102
        }
      ]
    },
    {
      "cell_type": "markdown",
      "metadata": {
        "id": "ZEO3JYuN0xni"
      },
      "source": [
        "## **Train Data**"
      ]
    },
    {
      "cell_type": "code",
      "metadata": {
        "id": "jjuwKzSw011r"
      },
      "source": [
        "X = df.drop('price', axis=1)\n",
        "y = df['price']"
      ],
      "execution_count": 103,
      "outputs": []
    },
    {
      "cell_type": "code",
      "metadata": {
        "id": "anc2zGhl05JL"
      },
      "source": [
        "# Use train_test_split to create training and testing data\n",
        "from sklearn.model_selection import train_test_split\n",
        "\n",
        "X_train, X_test, y_train, y_test = train_test_split(X, y, random_state=42)"
      ],
      "execution_count": 105,
      "outputs": []
    },
    {
      "cell_type": "code",
      "metadata": {
        "id": "0w1g3BidnSY1",
        "outputId": "85221a7a-32ca-4cca-de49-17403763b216",
        "colab": {
          "base_uri": "https://localhost:8080/"
        }
      },
      "source": [
        "from sklearn.preprocessing import MinMaxScaler\n",
        "from sklearn.feature_selection import SelectKBest\n",
        "from sklearn.feature_selection import chi2\n",
        "\n",
        "X_minmax = MinMaxScaler().fit(X_train)\n",
        "\n",
        "X_train_minmax = X_minmax.transform(X_train)\n",
        "X_test_minmax = X_minmax.transform(X_test)\n",
        "\n",
        "\n",
        "\n",
        "#apply SelectKBest class to extract top 10 best features\n",
        "bestfeatures = SelectKBest(score_func=chi2, k='all')\n",
        "fit = bestfeatures.fit(X_train_minmax,y_train)\n",
        "dfscores = pd.DataFrame(fit.scores_)\n",
        "dfcolumns = pd.DataFrame(X.columns)\n",
        "#concat two dataframes for better visualization \n",
        "featureScores = pd.concat([dfcolumns,dfscores],axis=1)\n",
        "featureScores.columns = ['Specs','Score']  #naming the dataframe columns\n",
        "top_features = featureScores.nlargest(10,'Score')\n",
        "print(top_features)  #print best features"
      ],
      "execution_count": 106,
      "outputs": [
        {
          "output_type": "stream",
          "text": [
            "         Specs        Score\n",
            "6    townhouse  1214.337319\n",
            "5        house  1131.315966\n",
            "13    basement  1072.233723\n",
            "12    lot_size   661.731432\n",
            "2    half_bath   590.356116\n",
            "14      garage   541.246055\n",
            "4        condo   439.727358\n",
            "1    full_bath   287.780834\n",
            "0          bed   246.310898\n",
            "9   walk_score   228.921528\n"
          ],
          "name": "stdout"
        }
      ]
    },
    {
      "cell_type": "code",
      "metadata": {
        "id": "7s8FxnfQ07c-"
      },
      "source": [
        "# Create the model using LinearRegression\n",
        "\n",
        "from sklearn.linear_model import LinearRegression\n",
        "model = LinearRegression()"
      ],
      "execution_count": 107,
      "outputs": []
    },
    {
      "cell_type": "code",
      "metadata": {
        "id": "imE5A-_O099k",
        "outputId": "ab9ea319-d707-4fac-8cd7-a780f0f7ce8f",
        "colab": {
          "base_uri": "https://localhost:8080/"
        }
      },
      "source": [
        "# Fit the model to the training data and calculate the score for the training data\n",
        "\n",
        "model.fit(X_train_minmax, y_train)\n",
        "training_score = model.score(X_train_minmax, y_train)\n",
        "\n",
        "print(f\"Training Score: {training_score}\")"
      ],
      "execution_count": 108,
      "outputs": [
        {
          "output_type": "stream",
          "text": [
            "Training Score: 0.7206147290302338\n"
          ],
          "name": "stdout"
        }
      ]
    },
    {
      "cell_type": "markdown",
      "metadata": {
        "id": "PO-FkH3w1DpK"
      },
      "source": [
        "## **Test Data**"
      ]
    },
    {
      "cell_type": "code",
      "metadata": {
        "id": "t_FVyL_X1Bzc",
        "outputId": "781239a0-f5ea-445d-adca-2c577bc04299",
        "colab": {
          "base_uri": "https://localhost:8080/"
        }
      },
      "source": [
        "# Calculate the score for the testing data\n",
        "\n",
        "testing_score = model.score(X_test_minmax, y_test)\n",
        "print(f\"Testing Score: {testing_score}\")"
      ],
      "execution_count": 109,
      "outputs": [
        {
          "output_type": "stream",
          "text": [
            "Testing Score: 0.7440926352157671\n"
          ],
          "name": "stdout"
        }
      ]
    },
    {
      "cell_type": "markdown",
      "metadata": {
        "id": "JUY6EoMP1ZkQ"
      },
      "source": [
        "## **Linear Regression Model**"
      ]
    },
    {
      "cell_type": "code",
      "metadata": {
        "id": "QddIt6tB1Rbj",
        "outputId": "ceb96bc3-cead-4174-c478-c167eb674d39",
        "colab": {
          "base_uri": "https://localhost:8080/"
        }
      },
      "source": [
        "from sklearn import linear_model\n",
        "regr = linear_model.LinearRegression()\n",
        "regr.fit(X, y)"
      ],
      "execution_count": 111,
      "outputs": [
        {
          "output_type": "execute_result",
          "data": {
            "text/plain": [
              "LinearRegression(copy_X=True, fit_intercept=True, n_jobs=None, normalize=False)"
            ]
          },
          "metadata": {
            "tags": []
          },
          "execution_count": 111
        }
      ]
    },
    {
      "cell_type": "code",
      "metadata": {
        "id": "EMEItztG1hE5",
        "outputId": "2fd2d0ec-4453-4298-b3f0-2ebb7d1d9027",
        "colab": {
          "base_uri": "https://localhost:8080/"
        }
      },
      "source": [
        "regr.coef_"
      ],
      "execution_count": 112,
      "outputs": [
        {
          "output_type": "execute_result",
          "data": {
            "text/plain": [
              "array([-5.97155208e+03,  5.58613442e+04, -8.80153805e+03,  2.51656037e+02,\n",
              "       -9.92997944e+04,  1.31196010e+05, -3.18962157e+04,  5.05017771e+00,\n",
              "       -8.29804811e+03,  5.84174578e+02, -1.82501927e+02, -3.42334600e+00,\n",
              "        2.30555429e+00, -1.49185845e+05,  1.24133786e+04])"
            ]
          },
          "metadata": {
            "tags": []
          },
          "execution_count": 112
        }
      ]
    },
    {
      "cell_type": "code",
      "metadata": {
        "id": "mX5xLjO91lDY",
        "outputId": "a3e9167a-9bef-4d2d-e667-ba08356b1ab6",
        "colab": {
          "base_uri": "https://localhost:8080/"
        }
      },
      "source": [
        "regr.intercept_"
      ],
      "execution_count": 113,
      "outputs": [
        {
          "output_type": "execute_result",
          "data": {
            "text/plain": [
              "143608.3468247233"
            ]
          },
          "metadata": {
            "tags": []
          },
          "execution_count": 113
        }
      ]
    },
    {
      "cell_type": "code",
      "metadata": {
        "id": "CKakb__d1n3X",
        "outputId": "9160a1bd-4392-404e-fc57-e8e0a2c304aa",
        "colab": {
          "base_uri": "https://localhost:8080/"
        }
      },
      "source": [
        "# Predict the price of a townhouse with the following features\n",
        "\n",
        "# bed = 3\n",
        "# full_bath = 2\n",
        "# half_bath = 0\n",
        "# property_area = 1500\n",
        "# years_old = 15\n",
        "# distance_downtown = 12.554\n",
        "\n",
        "regr.predict([[3, 2, 0, 1500, 0, 0, 1, 15, 12.554, 50, 50, 50, 2000, 0, 0]])"
      ],
      "execution_count": 114,
      "outputs": [
        {
          "output_type": "execute_result",
          "data": {
            "text/plain": [
              "array([503429.84883364])"
            ]
          },
          "metadata": {
            "tags": []
          },
          "execution_count": 114
        }
      ]
    },
    {
      "cell_type": "code",
      "metadata": {
        "id": "x51nbaZY1rId",
        "outputId": "d31764dd-6141-4d54-eaa0-98fc6f145e24",
        "colab": {
          "base_uri": "https://localhost:8080/"
        }
      },
      "source": [
        "# Another sample\n",
        "\n",
        "regr.predict([[3, 3, 0, 1200, 0, 0, 1, 15, 14.2, 50, 50, 50, 1800, 0, 0]])"
      ],
      "execution_count": 116,
      "outputs": [
        {
          "output_type": "execute_result",
          "data": {
            "text/plain": [
              "array([469674.68391367])"
            ]
          },
          "metadata": {
            "tags": []
          },
          "execution_count": 116
        }
      ]
    },
    {
      "cell_type": "code",
      "metadata": {
        "id": "-laO_N7h1xrm",
        "outputId": "f3c04dd3-137e-433d-efdb-ae120197855c",
        "colab": {
          "base_uri": "https://localhost:8080/",
          "height": 638
        }
      },
      "source": [
        "# Plot the Residuals for the Training and Testing data\n",
        "\n",
        "plt.figure(figsize=(10, 10))\n",
        "plt.scatter(model.predict(X_train_minmax), model.predict(X_train_minmax) - y_train, c=\"blue\", label=\"Training Data\")\n",
        "plt.scatter(model.predict(X_test_minmax), model.predict(X_test_minmax) - y_test, c=\"orange\", label=\"Testing Data\")\n",
        "plt.legend()\n",
        "plt.hlines(y=0, xmin=y.min(), xmax=y.max())\n",
        "plt.title(\"Residual Plot\")"
      ],
      "execution_count": 117,
      "outputs": [
        {
          "output_type": "execute_result",
          "data": {
            "text/plain": [
              "Text(0.5, 1.0, 'Residual Plot')"
            ]
          },
          "metadata": {
            "tags": []
          },
          "execution_count": 117
        },
        {
          "output_type": "display_data",
          "data": {
            "image/png": "[encoded data removed]",
            "text/plain": [
              "<Figure size 720x720 with 1 Axes>"
            ]
          },
          "metadata": {
            "tags": []
          }
        }
      ]
    },
    {
      "cell_type": "code",
      "metadata": {
        "id": "phx2pdBA11Os"
      },
      "source": [
        ""
      ],
      "execution_count": null,
      "outputs": []
    }
  ]
}